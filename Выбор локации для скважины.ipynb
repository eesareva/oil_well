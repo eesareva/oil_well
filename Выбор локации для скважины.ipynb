{
 "cells": [
  {
   "cell_type": "markdown",
   "metadata": {},
   "source": [
    "# Выбор локации для скважины"
   ]
  },
  {
   "cell_type": "markdown",
   "metadata": {},
   "source": [
    "Допустим, вы работаете в добывающей компании «ГлавРосГосНефть». Нужно решить, где бурить новую скважину.\n",
    "\n",
    "Вам предоставлены пробы нефти в трёх регионах: в каждом 10 000 месторождений, где измерили качество нефти и объём её запасов. Постройте модель машинного обучения, которая поможет определить регион, где добыча принесёт наибольшую прибыль. Проанализируйте возможную прибыль и риски техникой *Bootstrap.*\n",
    "\n",
    "Шаги для выбора локации:\n",
    "\n",
    "- В избранном регионе ищут месторождения, для каждого определяют значения признаков;\n",
    "- Строят модель и оценивают объём запасов;\n",
    "- Выбирают месторождения с самым высокими оценками значений. Количество месторождений зависит от бюджета компании и стоимости разработки одной скважины;\n",
    "- Прибыль равна суммарной прибыли отобранных месторождений."
   ]
  },
  {
   "cell_type": "markdown",
   "metadata": {},
   "source": [
    "**Цель исследования**\n",
    "\n",
    "Определить, где бурить новую скважину\n",
    "\n",
    "---\n",
    "\n",
    "**Задачи исследования**\n",
    "\n",
    "Построить модель для определения региона, где добыча принесёт наибольшую прибыль\n",
    "\n",
    "---\n",
    "\n",
    "**Исходные данные**  \n",
    "\n",
    "Данные геологоразведки трёх регионов находятся в файлах: \n",
    "    \n",
    "- `/datasets/geo_data_0.csv`\n",
    "\n",
    "- `/datasets/geo_data_1.csv`\n",
    "    \n",
    "- `/datasets/geo_data_2.csv`\n",
    "\n",
    "- **id** — уникальный идентификатор скважины;\n",
    "- **f0, f1, f2** — три признака точек \n",
    "- **product** — объём запасов в скважине (тыс. баррелей)."
   ]
  },
  {
   "cell_type": "code",
   "execution_count": 1,
   "metadata": {},
   "outputs": [],
   "source": [
    "!pip install phik -q"
   ]
  },
  {
   "cell_type": "code",
   "execution_count": 2,
   "metadata": {},
   "outputs": [],
   "source": [
    "#Подключение библиотек\n",
    "import pandas as pd\n",
    "import matplotlib.pyplot as plt\n",
    "import seaborn as sns\n",
    "import numpy as np\n",
    "import phik\n",
    "\n",
    "from phik.report import plot_correlation_matrix\n",
    "from phik import report\n",
    "\n",
    "from sklearn.model_selection import train_test_split\n",
    "from sklearn.linear_model import LinearRegression\n",
    "from sklearn.preprocessing import StandardScaler\n",
    "from sklearn.metrics import mean_squared_error"
   ]
  },
  {
   "cell_type": "code",
   "execution_count": 3,
   "metadata": {},
   "outputs": [],
   "source": [
    "#Объявим константы\n",
    "\n",
    "RANDOM_STATE = 42"
   ]
  },
  {
   "cell_type": "markdown",
   "metadata": {},
   "source": [
    "## Загрузка и подготовка данных"
   ]
  },
  {
   "cell_type": "markdown",
   "metadata": {},
   "source": [
    "### Загрузка данных"
   ]
  },
  {
   "cell_type": "code",
   "execution_count": 4,
   "metadata": {},
   "outputs": [],
   "source": [
    "geo_data_0 = pd.read_csv('/datasets/geo_data_0.csv')\n",
    "geo_data_1 = pd.read_csv('/datasets/geo_data_1.csv')\n",
    "geo_data_2 = pd.read_csv('/datasets/geo_data_2.csv')"
   ]
  },
  {
   "cell_type": "markdown",
   "metadata": {},
   "source": [
    "### Предобработка данных"
   ]
  },
  {
   "cell_type": "code",
   "execution_count": 5,
   "metadata": {},
   "outputs": [],
   "source": [
    "# В целях оптимизации, напишем функцию для получения общей информации о датасете\n",
    "def describe_df(df, name):\n",
    "    print('размер датафрейма', name, ':', df.shape)\n",
    "    print('_'*125)\n",
    "    \n",
    "    print('Первые 5 строк датафрейма', name)\n",
    "    display(df.head())\n",
    "    print('_'*125)\n",
    "    \n",
    "    print('Последнии 5 строк датафрейма', name)\n",
    "    display(df.tail())\n",
    "    print('_'*125)\n",
    "    \n",
    "    print('Информация о датафрейме', name)\n",
    "    df.info()\n",
    "    print('_'*125)\n",
    "        \n",
    "    print('Описание датафрейма', name)\n",
    "    display(df.describe().T)\n",
    "    print('_'*125)\n",
    "    \n",
    "    print('Количество явных дубликатов в датафрейте', name, ':', df.duplicated().sum())\n",
    "    print('Количество пропусков в датафрейте', name, ':', '\\n', df.isna().sum())\n",
    "    \n",
    "    print('*'*125)"
   ]
  },
  {
   "cell_type": "code",
   "execution_count": 6,
   "metadata": {},
   "outputs": [
    {
     "name": "stdout",
     "output_type": "stream",
     "text": [
      "размер датафрейма geo_data_0 : (100000, 5)\n",
      "_____________________________________________________________________________________________________________________________\n",
      "Первые 5 строк датафрейма geo_data_0\n"
     ]
    },
    {
     "data": {
      "text/html": [
       "<div>\n",
       "<style scoped>\n",
       "    .dataframe tbody tr th:only-of-type {\n",
       "        vertical-align: middle;\n",
       "    }\n",
       "\n",
       "    .dataframe tbody tr th {\n",
       "        vertical-align: top;\n",
       "    }\n",
       "\n",
       "    .dataframe thead th {\n",
       "        text-align: right;\n",
       "    }\n",
       "</style>\n",
       "<table border=\"1\" class=\"dataframe\">\n",
       "  <thead>\n",
       "    <tr style=\"text-align: right;\">\n",
       "      <th></th>\n",
       "      <th>id</th>\n",
       "      <th>f0</th>\n",
       "      <th>f1</th>\n",
       "      <th>f2</th>\n",
       "      <th>product</th>\n",
       "    </tr>\n",
       "  </thead>\n",
       "  <tbody>\n",
       "    <tr>\n",
       "      <th>0</th>\n",
       "      <td>txEyH</td>\n",
       "      <td>0.705745</td>\n",
       "      <td>-0.497823</td>\n",
       "      <td>1.221170</td>\n",
       "      <td>105.280062</td>\n",
       "    </tr>\n",
       "    <tr>\n",
       "      <th>1</th>\n",
       "      <td>2acmU</td>\n",
       "      <td>1.334711</td>\n",
       "      <td>-0.340164</td>\n",
       "      <td>4.365080</td>\n",
       "      <td>73.037750</td>\n",
       "    </tr>\n",
       "    <tr>\n",
       "      <th>2</th>\n",
       "      <td>409Wp</td>\n",
       "      <td>1.022732</td>\n",
       "      <td>0.151990</td>\n",
       "      <td>1.419926</td>\n",
       "      <td>85.265647</td>\n",
       "    </tr>\n",
       "    <tr>\n",
       "      <th>3</th>\n",
       "      <td>iJLyR</td>\n",
       "      <td>-0.032172</td>\n",
       "      <td>0.139033</td>\n",
       "      <td>2.978566</td>\n",
       "      <td>168.620776</td>\n",
       "    </tr>\n",
       "    <tr>\n",
       "      <th>4</th>\n",
       "      <td>Xdl7t</td>\n",
       "      <td>1.988431</td>\n",
       "      <td>0.155413</td>\n",
       "      <td>4.751769</td>\n",
       "      <td>154.036647</td>\n",
       "    </tr>\n",
       "  </tbody>\n",
       "</table>\n",
       "</div>"
      ],
      "text/plain": [
       "      id        f0        f1        f2     product\n",
       "0  txEyH  0.705745 -0.497823  1.221170  105.280062\n",
       "1  2acmU  1.334711 -0.340164  4.365080   73.037750\n",
       "2  409Wp  1.022732  0.151990  1.419926   85.265647\n",
       "3  iJLyR -0.032172  0.139033  2.978566  168.620776\n",
       "4  Xdl7t  1.988431  0.155413  4.751769  154.036647"
      ]
     },
     "metadata": {},
     "output_type": "display_data"
    },
    {
     "name": "stdout",
     "output_type": "stream",
     "text": [
      "_____________________________________________________________________________________________________________________________\n",
      "Последнии 5 строк датафрейма geo_data_0\n"
     ]
    },
    {
     "data": {
      "text/html": [
       "<div>\n",
       "<style scoped>\n",
       "    .dataframe tbody tr th:only-of-type {\n",
       "        vertical-align: middle;\n",
       "    }\n",
       "\n",
       "    .dataframe tbody tr th {\n",
       "        vertical-align: top;\n",
       "    }\n",
       "\n",
       "    .dataframe thead th {\n",
       "        text-align: right;\n",
       "    }\n",
       "</style>\n",
       "<table border=\"1\" class=\"dataframe\">\n",
       "  <thead>\n",
       "    <tr style=\"text-align: right;\">\n",
       "      <th></th>\n",
       "      <th>id</th>\n",
       "      <th>f0</th>\n",
       "      <th>f1</th>\n",
       "      <th>f2</th>\n",
       "      <th>product</th>\n",
       "    </tr>\n",
       "  </thead>\n",
       "  <tbody>\n",
       "    <tr>\n",
       "      <th>99995</th>\n",
       "      <td>DLsed</td>\n",
       "      <td>0.971957</td>\n",
       "      <td>0.370953</td>\n",
       "      <td>6.075346</td>\n",
       "      <td>110.744026</td>\n",
       "    </tr>\n",
       "    <tr>\n",
       "      <th>99996</th>\n",
       "      <td>QKivN</td>\n",
       "      <td>1.392429</td>\n",
       "      <td>-0.382606</td>\n",
       "      <td>1.273912</td>\n",
       "      <td>122.346843</td>\n",
       "    </tr>\n",
       "    <tr>\n",
       "      <th>99997</th>\n",
       "      <td>3rnvd</td>\n",
       "      <td>1.029585</td>\n",
       "      <td>0.018787</td>\n",
       "      <td>-1.348308</td>\n",
       "      <td>64.375443</td>\n",
       "    </tr>\n",
       "    <tr>\n",
       "      <th>99998</th>\n",
       "      <td>7kl59</td>\n",
       "      <td>0.998163</td>\n",
       "      <td>-0.528582</td>\n",
       "      <td>1.583869</td>\n",
       "      <td>74.040764</td>\n",
       "    </tr>\n",
       "    <tr>\n",
       "      <th>99999</th>\n",
       "      <td>1CWhH</td>\n",
       "      <td>1.764754</td>\n",
       "      <td>-0.266417</td>\n",
       "      <td>5.722849</td>\n",
       "      <td>149.633246</td>\n",
       "    </tr>\n",
       "  </tbody>\n",
       "</table>\n",
       "</div>"
      ],
      "text/plain": [
       "          id        f0        f1        f2     product\n",
       "99995  DLsed  0.971957  0.370953  6.075346  110.744026\n",
       "99996  QKivN  1.392429 -0.382606  1.273912  122.346843\n",
       "99997  3rnvd  1.029585  0.018787 -1.348308   64.375443\n",
       "99998  7kl59  0.998163 -0.528582  1.583869   74.040764\n",
       "99999  1CWhH  1.764754 -0.266417  5.722849  149.633246"
      ]
     },
     "metadata": {},
     "output_type": "display_data"
    },
    {
     "name": "stdout",
     "output_type": "stream",
     "text": [
      "_____________________________________________________________________________________________________________________________\n",
      "Информация о датафрейме geo_data_0\n",
      "<class 'pandas.core.frame.DataFrame'>\n",
      "RangeIndex: 100000 entries, 0 to 99999\n",
      "Data columns (total 5 columns):\n",
      " #   Column   Non-Null Count   Dtype  \n",
      "---  ------   --------------   -----  \n",
      " 0   id       100000 non-null  object \n",
      " 1   f0       100000 non-null  float64\n",
      " 2   f1       100000 non-null  float64\n",
      " 3   f2       100000 non-null  float64\n",
      " 4   product  100000 non-null  float64\n",
      "dtypes: float64(4), object(1)\n",
      "memory usage: 3.8+ MB\n",
      "_____________________________________________________________________________________________________________________________\n",
      "Описание датафрейма geo_data_0\n"
     ]
    },
    {
     "data": {
      "text/html": [
       "<div>\n",
       "<style scoped>\n",
       "    .dataframe tbody tr th:only-of-type {\n",
       "        vertical-align: middle;\n",
       "    }\n",
       "\n",
       "    .dataframe tbody tr th {\n",
       "        vertical-align: top;\n",
       "    }\n",
       "\n",
       "    .dataframe thead th {\n",
       "        text-align: right;\n",
       "    }\n",
       "</style>\n",
       "<table border=\"1\" class=\"dataframe\">\n",
       "  <thead>\n",
       "    <tr style=\"text-align: right;\">\n",
       "      <th></th>\n",
       "      <th>count</th>\n",
       "      <th>mean</th>\n",
       "      <th>std</th>\n",
       "      <th>min</th>\n",
       "      <th>25%</th>\n",
       "      <th>50%</th>\n",
       "      <th>75%</th>\n",
       "      <th>max</th>\n",
       "    </tr>\n",
       "  </thead>\n",
       "  <tbody>\n",
       "    <tr>\n",
       "      <th>f0</th>\n",
       "      <td>100000.0</td>\n",
       "      <td>0.500419</td>\n",
       "      <td>0.871832</td>\n",
       "      <td>-1.408605</td>\n",
       "      <td>-0.072580</td>\n",
       "      <td>0.502360</td>\n",
       "      <td>1.073581</td>\n",
       "      <td>2.362331</td>\n",
       "    </tr>\n",
       "    <tr>\n",
       "      <th>f1</th>\n",
       "      <td>100000.0</td>\n",
       "      <td>0.250143</td>\n",
       "      <td>0.504433</td>\n",
       "      <td>-0.848218</td>\n",
       "      <td>-0.200881</td>\n",
       "      <td>0.250252</td>\n",
       "      <td>0.700646</td>\n",
       "      <td>1.343769</td>\n",
       "    </tr>\n",
       "    <tr>\n",
       "      <th>f2</th>\n",
       "      <td>100000.0</td>\n",
       "      <td>2.502647</td>\n",
       "      <td>3.248248</td>\n",
       "      <td>-12.088328</td>\n",
       "      <td>0.287748</td>\n",
       "      <td>2.515969</td>\n",
       "      <td>4.715088</td>\n",
       "      <td>16.003790</td>\n",
       "    </tr>\n",
       "    <tr>\n",
       "      <th>product</th>\n",
       "      <td>100000.0</td>\n",
       "      <td>92.500000</td>\n",
       "      <td>44.288691</td>\n",
       "      <td>0.000000</td>\n",
       "      <td>56.497507</td>\n",
       "      <td>91.849972</td>\n",
       "      <td>128.564089</td>\n",
       "      <td>185.364347</td>\n",
       "    </tr>\n",
       "  </tbody>\n",
       "</table>\n",
       "</div>"
      ],
      "text/plain": [
       "            count       mean        std        min        25%        50%  \\\n",
       "f0       100000.0   0.500419   0.871832  -1.408605  -0.072580   0.502360   \n",
       "f1       100000.0   0.250143   0.504433  -0.848218  -0.200881   0.250252   \n",
       "f2       100000.0   2.502647   3.248248 -12.088328   0.287748   2.515969   \n",
       "product  100000.0  92.500000  44.288691   0.000000  56.497507  91.849972   \n",
       "\n",
       "                75%         max  \n",
       "f0         1.073581    2.362331  \n",
       "f1         0.700646    1.343769  \n",
       "f2         4.715088   16.003790  \n",
       "product  128.564089  185.364347  "
      ]
     },
     "metadata": {},
     "output_type": "display_data"
    },
    {
     "name": "stdout",
     "output_type": "stream",
     "text": [
      "_____________________________________________________________________________________________________________________________\n",
      "Количество явных дубликатов в датафрейте geo_data_0 : 0\n",
      "Количество пропусков в датафрейте geo_data_0 : \n",
      " id         0\n",
      "f0         0\n",
      "f1         0\n",
      "f2         0\n",
      "product    0\n",
      "dtype: int64\n",
      "*****************************************************************************************************************************\n"
     ]
    }
   ],
   "source": [
    "#Вызовем функцию для датасета 'geo_data_0'\n",
    "describe_df(geo_data_0, 'geo_data_0')"
   ]
  },
  {
   "cell_type": "code",
   "execution_count": 7,
   "metadata": {},
   "outputs": [
    {
     "name": "stdout",
     "output_type": "stream",
     "text": [
      "размер датафрейма geo_data_1 : (100000, 5)\n",
      "_____________________________________________________________________________________________________________________________\n",
      "Первые 5 строк датафрейма geo_data_1\n"
     ]
    },
    {
     "data": {
      "text/html": [
       "<div>\n",
       "<style scoped>\n",
       "    .dataframe tbody tr th:only-of-type {\n",
       "        vertical-align: middle;\n",
       "    }\n",
       "\n",
       "    .dataframe tbody tr th {\n",
       "        vertical-align: top;\n",
       "    }\n",
       "\n",
       "    .dataframe thead th {\n",
       "        text-align: right;\n",
       "    }\n",
       "</style>\n",
       "<table border=\"1\" class=\"dataframe\">\n",
       "  <thead>\n",
       "    <tr style=\"text-align: right;\">\n",
       "      <th></th>\n",
       "      <th>id</th>\n",
       "      <th>f0</th>\n",
       "      <th>f1</th>\n",
       "      <th>f2</th>\n",
       "      <th>product</th>\n",
       "    </tr>\n",
       "  </thead>\n",
       "  <tbody>\n",
       "    <tr>\n",
       "      <th>0</th>\n",
       "      <td>kBEdx</td>\n",
       "      <td>-15.001348</td>\n",
       "      <td>-8.276000</td>\n",
       "      <td>-0.005876</td>\n",
       "      <td>3.179103</td>\n",
       "    </tr>\n",
       "    <tr>\n",
       "      <th>1</th>\n",
       "      <td>62mP7</td>\n",
       "      <td>14.272088</td>\n",
       "      <td>-3.475083</td>\n",
       "      <td>0.999183</td>\n",
       "      <td>26.953261</td>\n",
       "    </tr>\n",
       "    <tr>\n",
       "      <th>2</th>\n",
       "      <td>vyE1P</td>\n",
       "      <td>6.263187</td>\n",
       "      <td>-5.948386</td>\n",
       "      <td>5.001160</td>\n",
       "      <td>134.766305</td>\n",
       "    </tr>\n",
       "    <tr>\n",
       "      <th>3</th>\n",
       "      <td>KcrkZ</td>\n",
       "      <td>-13.081196</td>\n",
       "      <td>-11.506057</td>\n",
       "      <td>4.999415</td>\n",
       "      <td>137.945408</td>\n",
       "    </tr>\n",
       "    <tr>\n",
       "      <th>4</th>\n",
       "      <td>AHL4O</td>\n",
       "      <td>12.702195</td>\n",
       "      <td>-8.147433</td>\n",
       "      <td>5.004363</td>\n",
       "      <td>134.766305</td>\n",
       "    </tr>\n",
       "  </tbody>\n",
       "</table>\n",
       "</div>"
      ],
      "text/plain": [
       "      id         f0         f1        f2     product\n",
       "0  kBEdx -15.001348  -8.276000 -0.005876    3.179103\n",
       "1  62mP7  14.272088  -3.475083  0.999183   26.953261\n",
       "2  vyE1P   6.263187  -5.948386  5.001160  134.766305\n",
       "3  KcrkZ -13.081196 -11.506057  4.999415  137.945408\n",
       "4  AHL4O  12.702195  -8.147433  5.004363  134.766305"
      ]
     },
     "metadata": {},
     "output_type": "display_data"
    },
    {
     "name": "stdout",
     "output_type": "stream",
     "text": [
      "_____________________________________________________________________________________________________________________________\n",
      "Последнии 5 строк датафрейма geo_data_1\n"
     ]
    },
    {
     "data": {
      "text/html": [
       "<div>\n",
       "<style scoped>\n",
       "    .dataframe tbody tr th:only-of-type {\n",
       "        vertical-align: middle;\n",
       "    }\n",
       "\n",
       "    .dataframe tbody tr th {\n",
       "        vertical-align: top;\n",
       "    }\n",
       "\n",
       "    .dataframe thead th {\n",
       "        text-align: right;\n",
       "    }\n",
       "</style>\n",
       "<table border=\"1\" class=\"dataframe\">\n",
       "  <thead>\n",
       "    <tr style=\"text-align: right;\">\n",
       "      <th></th>\n",
       "      <th>id</th>\n",
       "      <th>f0</th>\n",
       "      <th>f1</th>\n",
       "      <th>f2</th>\n",
       "      <th>product</th>\n",
       "    </tr>\n",
       "  </thead>\n",
       "  <tbody>\n",
       "    <tr>\n",
       "      <th>99995</th>\n",
       "      <td>QywKC</td>\n",
       "      <td>9.535637</td>\n",
       "      <td>-6.878139</td>\n",
       "      <td>1.998296</td>\n",
       "      <td>53.906522</td>\n",
       "    </tr>\n",
       "    <tr>\n",
       "      <th>99996</th>\n",
       "      <td>ptvty</td>\n",
       "      <td>-10.160631</td>\n",
       "      <td>-12.558096</td>\n",
       "      <td>5.005581</td>\n",
       "      <td>137.945408</td>\n",
       "    </tr>\n",
       "    <tr>\n",
       "      <th>99997</th>\n",
       "      <td>09gWa</td>\n",
       "      <td>-7.378891</td>\n",
       "      <td>-3.084104</td>\n",
       "      <td>4.998651</td>\n",
       "      <td>137.945408</td>\n",
       "    </tr>\n",
       "    <tr>\n",
       "      <th>99998</th>\n",
       "      <td>rqwUm</td>\n",
       "      <td>0.665714</td>\n",
       "      <td>-6.152593</td>\n",
       "      <td>1.000146</td>\n",
       "      <td>30.132364</td>\n",
       "    </tr>\n",
       "    <tr>\n",
       "      <th>99999</th>\n",
       "      <td>relB0</td>\n",
       "      <td>-3.426139</td>\n",
       "      <td>-7.794274</td>\n",
       "      <td>-0.003299</td>\n",
       "      <td>3.179103</td>\n",
       "    </tr>\n",
       "  </tbody>\n",
       "</table>\n",
       "</div>"
      ],
      "text/plain": [
       "          id         f0         f1        f2     product\n",
       "99995  QywKC   9.535637  -6.878139  1.998296   53.906522\n",
       "99996  ptvty -10.160631 -12.558096  5.005581  137.945408\n",
       "99997  09gWa  -7.378891  -3.084104  4.998651  137.945408\n",
       "99998  rqwUm   0.665714  -6.152593  1.000146   30.132364\n",
       "99999  relB0  -3.426139  -7.794274 -0.003299    3.179103"
      ]
     },
     "metadata": {},
     "output_type": "display_data"
    },
    {
     "name": "stdout",
     "output_type": "stream",
     "text": [
      "_____________________________________________________________________________________________________________________________\n",
      "Информация о датафрейме geo_data_1\n",
      "<class 'pandas.core.frame.DataFrame'>\n",
      "RangeIndex: 100000 entries, 0 to 99999\n",
      "Data columns (total 5 columns):\n",
      " #   Column   Non-Null Count   Dtype  \n",
      "---  ------   --------------   -----  \n",
      " 0   id       100000 non-null  object \n",
      " 1   f0       100000 non-null  float64\n",
      " 2   f1       100000 non-null  float64\n",
      " 3   f2       100000 non-null  float64\n",
      " 4   product  100000 non-null  float64\n",
      "dtypes: float64(4), object(1)\n",
      "memory usage: 3.8+ MB\n",
      "_____________________________________________________________________________________________________________________________\n",
      "Описание датафрейма geo_data_1\n"
     ]
    },
    {
     "data": {
      "text/html": [
       "<div>\n",
       "<style scoped>\n",
       "    .dataframe tbody tr th:only-of-type {\n",
       "        vertical-align: middle;\n",
       "    }\n",
       "\n",
       "    .dataframe tbody tr th {\n",
       "        vertical-align: top;\n",
       "    }\n",
       "\n",
       "    .dataframe thead th {\n",
       "        text-align: right;\n",
       "    }\n",
       "</style>\n",
       "<table border=\"1\" class=\"dataframe\">\n",
       "  <thead>\n",
       "    <tr style=\"text-align: right;\">\n",
       "      <th></th>\n",
       "      <th>count</th>\n",
       "      <th>mean</th>\n",
       "      <th>std</th>\n",
       "      <th>min</th>\n",
       "      <th>25%</th>\n",
       "      <th>50%</th>\n",
       "      <th>75%</th>\n",
       "      <th>max</th>\n",
       "    </tr>\n",
       "  </thead>\n",
       "  <tbody>\n",
       "    <tr>\n",
       "      <th>f0</th>\n",
       "      <td>100000.0</td>\n",
       "      <td>1.141296</td>\n",
       "      <td>8.965932</td>\n",
       "      <td>-31.609576</td>\n",
       "      <td>-6.298551</td>\n",
       "      <td>1.153055</td>\n",
       "      <td>8.621015</td>\n",
       "      <td>29.421755</td>\n",
       "    </tr>\n",
       "    <tr>\n",
       "      <th>f1</th>\n",
       "      <td>100000.0</td>\n",
       "      <td>-4.796579</td>\n",
       "      <td>5.119872</td>\n",
       "      <td>-26.358598</td>\n",
       "      <td>-8.267985</td>\n",
       "      <td>-4.813172</td>\n",
       "      <td>-1.332816</td>\n",
       "      <td>18.734063</td>\n",
       "    </tr>\n",
       "    <tr>\n",
       "      <th>f2</th>\n",
       "      <td>100000.0</td>\n",
       "      <td>2.494541</td>\n",
       "      <td>1.703572</td>\n",
       "      <td>-0.018144</td>\n",
       "      <td>1.000021</td>\n",
       "      <td>2.011479</td>\n",
       "      <td>3.999904</td>\n",
       "      <td>5.019721</td>\n",
       "    </tr>\n",
       "    <tr>\n",
       "      <th>product</th>\n",
       "      <td>100000.0</td>\n",
       "      <td>68.825000</td>\n",
       "      <td>45.944423</td>\n",
       "      <td>0.000000</td>\n",
       "      <td>26.953261</td>\n",
       "      <td>57.085625</td>\n",
       "      <td>107.813044</td>\n",
       "      <td>137.945408</td>\n",
       "    </tr>\n",
       "  </tbody>\n",
       "</table>\n",
       "</div>"
      ],
      "text/plain": [
       "            count       mean        std        min        25%        50%  \\\n",
       "f0       100000.0   1.141296   8.965932 -31.609576  -6.298551   1.153055   \n",
       "f1       100000.0  -4.796579   5.119872 -26.358598  -8.267985  -4.813172   \n",
       "f2       100000.0   2.494541   1.703572  -0.018144   1.000021   2.011479   \n",
       "product  100000.0  68.825000  45.944423   0.000000  26.953261  57.085625   \n",
       "\n",
       "                75%         max  \n",
       "f0         8.621015   29.421755  \n",
       "f1        -1.332816   18.734063  \n",
       "f2         3.999904    5.019721  \n",
       "product  107.813044  137.945408  "
      ]
     },
     "metadata": {},
     "output_type": "display_data"
    },
    {
     "name": "stdout",
     "output_type": "stream",
     "text": [
      "_____________________________________________________________________________________________________________________________\n",
      "Количество явных дубликатов в датафрейте geo_data_1 : 0\n",
      "Количество пропусков в датафрейте geo_data_1 : \n",
      " id         0\n",
      "f0         0\n",
      "f1         0\n",
      "f2         0\n",
      "product    0\n",
      "dtype: int64\n",
      "*****************************************************************************************************************************\n"
     ]
    }
   ],
   "source": [
    "#Вызовем функцию для датасета 'geo_data_1'\n",
    "describe_df(geo_data_1, 'geo_data_1')"
   ]
  },
  {
   "cell_type": "code",
   "execution_count": 8,
   "metadata": {},
   "outputs": [
    {
     "name": "stdout",
     "output_type": "stream",
     "text": [
      "размер датафрейма geo_data_2 : (100000, 5)\n",
      "_____________________________________________________________________________________________________________________________\n",
      "Первые 5 строк датафрейма geo_data_2\n"
     ]
    },
    {
     "data": {
      "text/html": [
       "<div>\n",
       "<style scoped>\n",
       "    .dataframe tbody tr th:only-of-type {\n",
       "        vertical-align: middle;\n",
       "    }\n",
       "\n",
       "    .dataframe tbody tr th {\n",
       "        vertical-align: top;\n",
       "    }\n",
       "\n",
       "    .dataframe thead th {\n",
       "        text-align: right;\n",
       "    }\n",
       "</style>\n",
       "<table border=\"1\" class=\"dataframe\">\n",
       "  <thead>\n",
       "    <tr style=\"text-align: right;\">\n",
       "      <th></th>\n",
       "      <th>id</th>\n",
       "      <th>f0</th>\n",
       "      <th>f1</th>\n",
       "      <th>f2</th>\n",
       "      <th>product</th>\n",
       "    </tr>\n",
       "  </thead>\n",
       "  <tbody>\n",
       "    <tr>\n",
       "      <th>0</th>\n",
       "      <td>fwXo0</td>\n",
       "      <td>-1.146987</td>\n",
       "      <td>0.963328</td>\n",
       "      <td>-0.828965</td>\n",
       "      <td>27.758673</td>\n",
       "    </tr>\n",
       "    <tr>\n",
       "      <th>1</th>\n",
       "      <td>WJtFt</td>\n",
       "      <td>0.262778</td>\n",
       "      <td>0.269839</td>\n",
       "      <td>-2.530187</td>\n",
       "      <td>56.069697</td>\n",
       "    </tr>\n",
       "    <tr>\n",
       "      <th>2</th>\n",
       "      <td>ovLUW</td>\n",
       "      <td>0.194587</td>\n",
       "      <td>0.289035</td>\n",
       "      <td>-5.586433</td>\n",
       "      <td>62.871910</td>\n",
       "    </tr>\n",
       "    <tr>\n",
       "      <th>3</th>\n",
       "      <td>q6cA6</td>\n",
       "      <td>2.236060</td>\n",
       "      <td>-0.553760</td>\n",
       "      <td>0.930038</td>\n",
       "      <td>114.572842</td>\n",
       "    </tr>\n",
       "    <tr>\n",
       "      <th>4</th>\n",
       "      <td>WPMUX</td>\n",
       "      <td>-0.515993</td>\n",
       "      <td>1.716266</td>\n",
       "      <td>5.899011</td>\n",
       "      <td>149.600746</td>\n",
       "    </tr>\n",
       "  </tbody>\n",
       "</table>\n",
       "</div>"
      ],
      "text/plain": [
       "      id        f0        f1        f2     product\n",
       "0  fwXo0 -1.146987  0.963328 -0.828965   27.758673\n",
       "1  WJtFt  0.262778  0.269839 -2.530187   56.069697\n",
       "2  ovLUW  0.194587  0.289035 -5.586433   62.871910\n",
       "3  q6cA6  2.236060 -0.553760  0.930038  114.572842\n",
       "4  WPMUX -0.515993  1.716266  5.899011  149.600746"
      ]
     },
     "metadata": {},
     "output_type": "display_data"
    },
    {
     "name": "stdout",
     "output_type": "stream",
     "text": [
      "_____________________________________________________________________________________________________________________________\n",
      "Последнии 5 строк датафрейма geo_data_2\n"
     ]
    },
    {
     "data": {
      "text/html": [
       "<div>\n",
       "<style scoped>\n",
       "    .dataframe tbody tr th:only-of-type {\n",
       "        vertical-align: middle;\n",
       "    }\n",
       "\n",
       "    .dataframe tbody tr th {\n",
       "        vertical-align: top;\n",
       "    }\n",
       "\n",
       "    .dataframe thead th {\n",
       "        text-align: right;\n",
       "    }\n",
       "</style>\n",
       "<table border=\"1\" class=\"dataframe\">\n",
       "  <thead>\n",
       "    <tr style=\"text-align: right;\">\n",
       "      <th></th>\n",
       "      <th>id</th>\n",
       "      <th>f0</th>\n",
       "      <th>f1</th>\n",
       "      <th>f2</th>\n",
       "      <th>product</th>\n",
       "    </tr>\n",
       "  </thead>\n",
       "  <tbody>\n",
       "    <tr>\n",
       "      <th>99995</th>\n",
       "      <td>4GxBu</td>\n",
       "      <td>-1.777037</td>\n",
       "      <td>1.125220</td>\n",
       "      <td>6.263374</td>\n",
       "      <td>172.327046</td>\n",
       "    </tr>\n",
       "    <tr>\n",
       "      <th>99996</th>\n",
       "      <td>YKFjq</td>\n",
       "      <td>-1.261523</td>\n",
       "      <td>-0.894828</td>\n",
       "      <td>2.524545</td>\n",
       "      <td>138.748846</td>\n",
       "    </tr>\n",
       "    <tr>\n",
       "      <th>99997</th>\n",
       "      <td>tKPY3</td>\n",
       "      <td>-1.199934</td>\n",
       "      <td>-2.957637</td>\n",
       "      <td>5.219411</td>\n",
       "      <td>157.080080</td>\n",
       "    </tr>\n",
       "    <tr>\n",
       "      <th>99998</th>\n",
       "      <td>nmxp2</td>\n",
       "      <td>-2.419896</td>\n",
       "      <td>2.417221</td>\n",
       "      <td>-5.548444</td>\n",
       "      <td>51.795253</td>\n",
       "    </tr>\n",
       "    <tr>\n",
       "      <th>99999</th>\n",
       "      <td>V9kWn</td>\n",
       "      <td>-2.551421</td>\n",
       "      <td>-2.025625</td>\n",
       "      <td>6.090891</td>\n",
       "      <td>102.775767</td>\n",
       "    </tr>\n",
       "  </tbody>\n",
       "</table>\n",
       "</div>"
      ],
      "text/plain": [
       "          id        f0        f1        f2     product\n",
       "99995  4GxBu -1.777037  1.125220  6.263374  172.327046\n",
       "99996  YKFjq -1.261523 -0.894828  2.524545  138.748846\n",
       "99997  tKPY3 -1.199934 -2.957637  5.219411  157.080080\n",
       "99998  nmxp2 -2.419896  2.417221 -5.548444   51.795253\n",
       "99999  V9kWn -2.551421 -2.025625  6.090891  102.775767"
      ]
     },
     "metadata": {},
     "output_type": "display_data"
    },
    {
     "name": "stdout",
     "output_type": "stream",
     "text": [
      "_____________________________________________________________________________________________________________________________\n",
      "Информация о датафрейме geo_data_2\n",
      "<class 'pandas.core.frame.DataFrame'>\n",
      "RangeIndex: 100000 entries, 0 to 99999\n",
      "Data columns (total 5 columns):\n",
      " #   Column   Non-Null Count   Dtype  \n",
      "---  ------   --------------   -----  \n",
      " 0   id       100000 non-null  object \n",
      " 1   f0       100000 non-null  float64\n",
      " 2   f1       100000 non-null  float64\n",
      " 3   f2       100000 non-null  float64\n",
      " 4   product  100000 non-null  float64\n",
      "dtypes: float64(4), object(1)\n",
      "memory usage: 3.8+ MB\n",
      "_____________________________________________________________________________________________________________________________\n",
      "Описание датафрейма geo_data_2\n"
     ]
    },
    {
     "data": {
      "text/html": [
       "<div>\n",
       "<style scoped>\n",
       "    .dataframe tbody tr th:only-of-type {\n",
       "        vertical-align: middle;\n",
       "    }\n",
       "\n",
       "    .dataframe tbody tr th {\n",
       "        vertical-align: top;\n",
       "    }\n",
       "\n",
       "    .dataframe thead th {\n",
       "        text-align: right;\n",
       "    }\n",
       "</style>\n",
       "<table border=\"1\" class=\"dataframe\">\n",
       "  <thead>\n",
       "    <tr style=\"text-align: right;\">\n",
       "      <th></th>\n",
       "      <th>count</th>\n",
       "      <th>mean</th>\n",
       "      <th>std</th>\n",
       "      <th>min</th>\n",
       "      <th>25%</th>\n",
       "      <th>50%</th>\n",
       "      <th>75%</th>\n",
       "      <th>max</th>\n",
       "    </tr>\n",
       "  </thead>\n",
       "  <tbody>\n",
       "    <tr>\n",
       "      <th>f0</th>\n",
       "      <td>100000.0</td>\n",
       "      <td>0.002023</td>\n",
       "      <td>1.732045</td>\n",
       "      <td>-8.760004</td>\n",
       "      <td>-1.162288</td>\n",
       "      <td>0.009424</td>\n",
       "      <td>1.158535</td>\n",
       "      <td>7.238262</td>\n",
       "    </tr>\n",
       "    <tr>\n",
       "      <th>f1</th>\n",
       "      <td>100000.0</td>\n",
       "      <td>-0.002081</td>\n",
       "      <td>1.730417</td>\n",
       "      <td>-7.084020</td>\n",
       "      <td>-1.174820</td>\n",
       "      <td>-0.009482</td>\n",
       "      <td>1.163678</td>\n",
       "      <td>7.844801</td>\n",
       "    </tr>\n",
       "    <tr>\n",
       "      <th>f2</th>\n",
       "      <td>100000.0</td>\n",
       "      <td>2.495128</td>\n",
       "      <td>3.473445</td>\n",
       "      <td>-11.970335</td>\n",
       "      <td>0.130359</td>\n",
       "      <td>2.484236</td>\n",
       "      <td>4.858794</td>\n",
       "      <td>16.739402</td>\n",
       "    </tr>\n",
       "    <tr>\n",
       "      <th>product</th>\n",
       "      <td>100000.0</td>\n",
       "      <td>95.000000</td>\n",
       "      <td>44.749921</td>\n",
       "      <td>0.000000</td>\n",
       "      <td>59.450441</td>\n",
       "      <td>94.925613</td>\n",
       "      <td>130.595027</td>\n",
       "      <td>190.029838</td>\n",
       "    </tr>\n",
       "  </tbody>\n",
       "</table>\n",
       "</div>"
      ],
      "text/plain": [
       "            count       mean        std        min        25%        50%  \\\n",
       "f0       100000.0   0.002023   1.732045  -8.760004  -1.162288   0.009424   \n",
       "f1       100000.0  -0.002081   1.730417  -7.084020  -1.174820  -0.009482   \n",
       "f2       100000.0   2.495128   3.473445 -11.970335   0.130359   2.484236   \n",
       "product  100000.0  95.000000  44.749921   0.000000  59.450441  94.925613   \n",
       "\n",
       "                75%         max  \n",
       "f0         1.158535    7.238262  \n",
       "f1         1.163678    7.844801  \n",
       "f2         4.858794   16.739402  \n",
       "product  130.595027  190.029838  "
      ]
     },
     "metadata": {},
     "output_type": "display_data"
    },
    {
     "name": "stdout",
     "output_type": "stream",
     "text": [
      "_____________________________________________________________________________________________________________________________\n",
      "Количество явных дубликатов в датафрейте geo_data_2 : 0\n",
      "Количество пропусков в датафрейте geo_data_2 : \n",
      " id         0\n",
      "f0         0\n",
      "f1         0\n",
      "f2         0\n",
      "product    0\n",
      "dtype: int64\n",
      "*****************************************************************************************************************************\n"
     ]
    }
   ],
   "source": [
    "#Вызовем функцию для датасета 'geo_data_2'\n",
    "describe_df(geo_data_2, 'geo_data_2')"
   ]
  },
  {
   "cell_type": "markdown",
   "metadata": {},
   "source": [
    "Столбец `id` не важен для дальнейшего анализа, сделаем его индексом"
   ]
  },
  {
   "cell_type": "code",
   "execution_count": 9,
   "metadata": {},
   "outputs": [],
   "source": [
    "geo_data_0 = geo_data_0.set_index('id') \n",
    "geo_data_1 = geo_data_1.set_index('id') \n",
    "geo_data_2 = geo_data_2.set_index('id') "
   ]
  },
  {
   "cell_type": "code",
   "execution_count": 10,
   "metadata": {},
   "outputs": [
    {
     "name": "stdout",
     "output_type": "stream",
     "text": [
      "Количество явных дубликатов в датафрейте geo_data_0: 0\n",
      "Количество явных дубликатов в датафрейте geo_data_1: 0\n",
      "Количество явных дубликатов в датафрейте geo_data_2: 0\n"
     ]
    }
   ],
   "source": [
    "# Убедимся, что после удаления Id не появились дубликаты\n",
    "print('Количество явных дубликатов в датафрейте geo_data_0:', geo_data_0.duplicated().sum())\n",
    "print('Количество явных дубликатов в датафрейте geo_data_1:', geo_data_1.duplicated().sum())\n",
    "print('Количество явных дубликатов в датафрейте geo_data_2:', geo_data_2.duplicated().sum())"
   ]
  },
  {
   "cell_type": "markdown",
   "metadata": {},
   "source": [
    "#### Вывод по предобработке данных\n",
    "\n",
    "Данные в таблицах соответствуют описанию. В каждом из трех рассматриваемых датафреймах содержится: 100 000 строк / 5 столбцов\n",
    "\n",
    "На этапе предобработке данных проверили, что в данных:\n",
    "\n",
    "- нет дубликатов\n",
    "- нет пропусков\n",
    "- типы столбцов указаны верно\n",
    "- Название столбцов корректны\n",
    "\n",
    "Столбец `id` сделали индексом\n"
   ]
  },
  {
   "cell_type": "markdown",
   "metadata": {},
   "source": [
    "### Исследовательский анализ данных"
   ]
  },
  {
   "cell_type": "code",
   "execution_count": 11,
   "metadata": {},
   "outputs": [],
   "source": [
    "# В целях оптимизации, напишем функцию для получения общей информации о столбце\n",
    "def describe_column(df, column):\n",
    "    print('Количество строк',  ':', df[column].shape[0])\n",
    "    print('_'*125)\n",
    "        \n",
    "    print('Описание данных')\n",
    "    display(df[column].describe().T)\n",
    "    print('_'*125)\n",
    "    \n",
    "    print('Количество уникальных значений:', df[column].unique().shape[0])\n",
    "    print('Количество пропусков в датафрейте', df[column].isna().sum())\n",
    "    print('_'*125)\n",
    "    \n",
    "    if type(df[column].loc[1]) == str:\n",
    "        print('Уникальные значения')\n",
    "        print(df[column].value_counts())\n",
    "    \n",
    "    print('*'*125)"
   ]
  },
  {
   "cell_type": "code",
   "execution_count": 12,
   "metadata": {},
   "outputs": [],
   "source": [
    "# Напишем функцию построения гистограммы и диграммы размаха для количественных данных\n",
    "def hix_box_plot(df, column):\n",
    "    fig, ax = plt.subplots(nrows=1, ncols=2, figsize=(16,6))\n",
    "    fig.suptitle(f'Обзор данных {column}', fontsize = 20, fontweight='bold')\n",
    "    \n",
    "    df[column].plot(ax=ax[0], kind='hist')\n",
    "     \n",
    "    sns.boxplot(df[column], ax=ax[1])\n",
    "    \n",
    "    ax[0].set_title('Гистограмма')\n",
    "    ax[0].set_xlabel(column)\n",
    "    \n",
    "    ax[1].set_title('Диграмма размаха')\n",
    "    ax[1].set_xlabel(column)\n",
    "    \n",
    "    plt.show()"
   ]
  },
  {
   "cell_type": "markdown",
   "metadata": {},
   "source": [
    "#### geo_data_0"
   ]
  },
  {
   "cell_type": "code",
   "execution_count": 13,
   "metadata": {
    "scrolled": false
   },
   "outputs": [
    {
     "name": "stderr",
     "output_type": "stream",
     "text": [
      "/opt/conda/lib/python3.9/site-packages/seaborn/_decorators.py:36: FutureWarning: Pass the following variable as a keyword arg: x. From version 0.12, the only valid positional argument will be `data`, and passing other arguments without an explicit keyword will result in an error or misinterpretation.\n",
      "  warnings.warn(\n"
     ]
    },
    {
     "data": {
      "image/png": "[encoded data removed]",
      "text/plain": [
       "<Figure size 1152x432 with 2 Axes>"
      ]
     },
     "metadata": {
      "needs_background": "light"
     },
     "output_type": "display_data"
    },
    {
     "name": "stderr",
     "output_type": "stream",
     "text": [
      "/opt/conda/lib/python3.9/site-packages/seaborn/_decorators.py:36: FutureWarning: Pass the following variable as a keyword arg: x. From version 0.12, the only valid positional argument will be `data`, and passing other arguments without an explicit keyword will result in an error or misinterpretation.\n",
      "  warnings.warn(\n"
     ]
    },
    {
     "data": {
      "image/png": "[encoded data removed]",
      "text/plain": [
       "<Figure size 1152x432 with 2 Axes>"
      ]
     },
     "metadata": {
      "needs_background": "light"
     },
     "output_type": "display_data"
    },
    {
     "name": "stderr",
     "output_type": "stream",
     "text": [
      "/opt/conda/lib/python3.9/site-packages/seaborn/_decorators.py:36: FutureWarning: Pass the following variable as a keyword arg: x. From version 0.12, the only valid positional argument will be `data`, and passing other arguments without an explicit keyword will result in an error or misinterpretation.\n",
      "  warnings.warn(\n"
     ]
    },
    {
     "data": {
      "image/png": "[encoded data removed]",
      "text/plain": [
       "<Figure size 1152x432 with 2 Axes>"
      ]
     },
     "metadata": {
      "needs_background": "light"
     },
     "output_type": "display_data"
    },
    {
     "name": "stderr",
     "output_type": "stream",
     "text": [
      "/opt/conda/lib/python3.9/site-packages/seaborn/_decorators.py:36: FutureWarning: Pass the following variable as a keyword arg: x. From version 0.12, the only valid positional argument will be `data`, and passing other arguments without an explicit keyword will result in an error or misinterpretation.\n",
      "  warnings.warn(\n"
     ]
    },
    {
     "data": {
      "image/png": "[encoded data removed]",
      "text/plain": [
       "<Figure size 1152x432 with 2 Axes>"
      ]
     },
     "metadata": {
      "needs_background": "light"
     },
     "output_type": "display_data"
    }
   ],
   "source": [
    "columns = ['f0', 'f1', 'f2', 'product']\n",
    "\n",
    "for column in columns:\n",
    "    #Построим графики для датасета geo_data_0\n",
    "    hix_box_plot(geo_data_0, column)"
   ]
  },
  {
   "cell_type": "markdown",
   "metadata": {},
   "source": [
    "В столбце `f2` есть выбросы, поскольку данные засекречены и мы не можем однозначно сделать вывод об их реалистичности, считаю правильным их удалить. \n",
    "\n",
    "Для отсеивания выбросов будем использовать метод Межквартильного размаха"
   ]
  },
  {
   "cell_type": "code",
   "execution_count": 14,
   "metadata": {},
   "outputs": [
    {
     "name": "stdout",
     "output_type": "stream",
     "text": [
      "Нижняя граница -6.35\n",
      "Верхняя граница 11.36\n"
     ]
    }
   ],
   "source": [
    "#Найдем верхную и нижнюю границы\n",
    "Q1 = geo_data_0['f2'].quantile(0.25)\n",
    "Q3 = geo_data_0['f2'].quantile(0.75)\n",
    "IQR = Q3 - Q1\n",
    "lower = Q1 - 1.5*IQR\n",
    "upper = Q3 + 1.5*IQR\n",
    "print('Нижняя граница', lower.round(2))\n",
    "print('Верхняя граница', upper.round(2))"
   ]
  },
  {
   "cell_type": "code",
   "execution_count": 15,
   "metadata": {},
   "outputs": [
    {
     "data": {
      "image/png": "[encoded data removed]",
      "text/plain": [
       "<Figure size 720x360 with 1 Axes>"
      ]
     },
     "metadata": {
      "needs_background": "light"
     },
     "output_type": "display_data"
    }
   ],
   "source": [
    "#Изобразим на графике боксплот где проходят границы Межквартильного размаха\n",
    "fig, ax = plt.subplots(nrows=1,ncols=1)\n",
    "fig.set_size_inches(10, 5)\n",
    "\n",
    "geo_data_0.boxplot('f2', vert=False)\n",
    "plt.xticks(np.arange(-10, 15, 1.5))\n",
    "plt.axvline(x = lower, color = 'r')\n",
    "plt.axvline(x = upper, color = 'r')\n",
    "plt.xlabel('f2')\n",
    "\n",
    "plt.show()\n"
   ]
  },
  {
   "cell_type": "markdown",
   "metadata": {},
   "source": [
    "В нашем случае распределение данных близко к нормальному, поэтому для отсеивания выбросов можно использовать метод Межквартильного размаха"
   ]
  },
  {
   "cell_type": "code",
   "execution_count": 16,
   "metadata": {},
   "outputs": [
    {
     "name": "stdout",
     "output_type": "stream",
     "text": [
      "Доля выбросов: 0.00506\n"
     ]
    }
   ],
   "source": [
    "print('Доля выбросов:', geo_data_0[(geo_data_0['f2'] > upper) | (geo_data_0['f2'] < lower)].shape[0]/\\\n",
    "     geo_data_0.shape[0])"
   ]
  },
  {
   "cell_type": "code",
   "execution_count": 17,
   "metadata": {},
   "outputs": [
    {
     "data": {
      "text/plain": [
       "(99494, 4)"
      ]
     },
     "execution_count": 17,
     "metadata": {},
     "output_type": "execute_result"
    }
   ],
   "source": [
    "#Удалим выбросы\n",
    "geo_data_0 = geo_data_0[(geo_data_0['f2'] < upper) & (geo_data_0['f2'] > lower)]\n",
    "geo_data_0.shape"
   ]
  },
  {
   "cell_type": "markdown",
   "metadata": {},
   "source": [
    "**Вывод** В дфтафрейме geo_data_0 в столбце 'f2' удалили выбросы методом Межквартильного размаха"
   ]
  },
  {
   "cell_type": "markdown",
   "metadata": {},
   "source": [
    "#### geo_data_1"
   ]
  },
  {
   "cell_type": "code",
   "execution_count": 18,
   "metadata": {
    "scrolled": false
   },
   "outputs": [
    {
     "name": "stderr",
     "output_type": "stream",
     "text": [
      "/opt/conda/lib/python3.9/site-packages/seaborn/_decorators.py:36: FutureWarning: Pass the following variable as a keyword arg: x. From version 0.12, the only valid positional argument will be `data`, and passing other arguments without an explicit keyword will result in an error or misinterpretation.\n",
      "  warnings.warn(\n"
     ]
    },
    {
     "data": {
      "image/png": "[encoded data removed]",
      "text/plain": [
       "<Figure size 1152x432 with 2 Axes>"
      ]
     },
     "metadata": {
      "needs_background": "light"
     },
     "output_type": "display_data"
    },
    {
     "name": "stderr",
     "output_type": "stream",
     "text": [
      "/opt/conda/lib/python3.9/site-packages/seaborn/_decorators.py:36: FutureWarning: Pass the following variable as a keyword arg: x. From version 0.12, the only valid positional argument will be `data`, and passing other arguments without an explicit keyword will result in an error or misinterpretation.\n",
      "  warnings.warn(\n"
     ]
    },
    {
     "data": {
      "image/png": "[encoded data removed]",
      "text/plain": [
       "<Figure size 1152x432 with 2 Axes>"
      ]
     },
     "metadata": {
      "needs_background": "light"
     },
     "output_type": "display_data"
    },
    {
     "name": "stderr",
     "output_type": "stream",
     "text": [
      "/opt/conda/lib/python3.9/site-packages/seaborn/_decorators.py:36: FutureWarning: Pass the following variable as a keyword arg: x. From version 0.12, the only valid positional argument will be `data`, and passing other arguments without an explicit keyword will result in an error or misinterpretation.\n",
      "  warnings.warn(\n"
     ]
    },
    {
     "data": {
      "image/png": "[encoded data removed]",
      "text/plain": [
       "<Figure size 1152x432 with 2 Axes>"
      ]
     },
     "metadata": {
      "needs_background": "light"
     },
     "output_type": "display_data"
    },
    {
     "name": "stderr",
     "output_type": "stream",
     "text": [
      "/opt/conda/lib/python3.9/site-packages/seaborn/_decorators.py:36: FutureWarning: Pass the following variable as a keyword arg: x. From version 0.12, the only valid positional argument will be `data`, and passing other arguments without an explicit keyword will result in an error or misinterpretation.\n",
      "  warnings.warn(\n"
     ]
    },
    {
     "data": {
      "image/png": "[encoded data removed]",
      "text/plain": [
       "<Figure size 1152x432 with 2 Axes>"
      ]
     },
     "metadata": {
      "needs_background": "light"
     },
     "output_type": "display_data"
    }
   ],
   "source": [
    "for column in columns:\n",
    "    #Построим графики для датасета geo_data_1\n",
    "    hix_box_plot(geo_data_1, column)"
   ]
  },
  {
   "cell_type": "markdown",
   "metadata": {},
   "source": [
    "В столбцах `f0`, `f1` есть выбросы, поскольку данные засекречены и мы не можем однозначно сделать вывод об их реалистичности, считаю правильным их удалить. \n",
    "\n",
    "Для отсеивания выбросов будем использовать метод Межквартильного размаха"
   ]
  },
  {
   "cell_type": "markdown",
   "metadata": {},
   "source": [
    "**Удаление выбрасов в солбце f0:**"
   ]
  },
  {
   "cell_type": "code",
   "execution_count": 19,
   "metadata": {},
   "outputs": [
    {
     "name": "stdout",
     "output_type": "stream",
     "text": [
      "Нижняя граница -28.68\n",
      "Верхняя граница 31.0\n"
     ]
    }
   ],
   "source": [
    "#Найдем верхную и нижнюю границы\n",
    "Q1 = geo_data_1['f0'].quantile(0.25)\n",
    "Q3 = geo_data_1['f0'].quantile(0.75)\n",
    "IQR = Q3 - Q1\n",
    "lower = Q1 - 1.5*IQR\n",
    "upper = Q3 + 1.5*IQR\n",
    "print('Нижняя граница', lower.round(2))\n",
    "print('Верхняя граница', upper.round(2))"
   ]
  },
  {
   "cell_type": "code",
   "execution_count": 20,
   "metadata": {},
   "outputs": [
    {
     "data": {
      "image/png": "[encoded data removed]",
      "text/plain": [
       "<Figure size 720x360 with 1 Axes>"
      ]
     },
     "metadata": {
      "needs_background": "light"
     },
     "output_type": "display_data"
    }
   ],
   "source": [
    "#Изобразим на графике боксплот где проходят границы Межквартильного размаха\n",
    "fig, ax = plt.subplots(nrows=1,ncols=1)\n",
    "fig.set_size_inches(10, 5)\n",
    "\n",
    "geo_data_1.boxplot('f0', vert=False)\n",
    "plt.xticks(np.arange(-30, 31, 3))\n",
    "plt.xlabel('f0')\n",
    "plt.axvline(x = lower, color = 'r')\n",
    "plt.axvline(x = upper, color = 'r')\n",
    "\n",
    "plt.show()"
   ]
  },
  {
   "cell_type": "markdown",
   "metadata": {},
   "source": [
    "Хотя распределение данных близко к нормальнону, границы выбросов определенные методом Межквартильного размаха и на графике boxplot хоть и не сильно, но уже отличаются. В данном случае считаю, что отсеять выбросы можно методом Межквартильного размаха"
   ]
  },
  {
   "cell_type": "code",
   "execution_count": 21,
   "metadata": {},
   "outputs": [
    {
     "name": "stdout",
     "output_type": "stream",
     "text": [
      "Доля выбросов: 1e-05\n"
     ]
    }
   ],
   "source": [
    "print('Доля выбросов:', geo_data_1[(geo_data_1['f0'] > upper) | (geo_data_1['f0'] < lower)].shape[0]/\\\n",
    "     geo_data_1.shape[0])"
   ]
  },
  {
   "cell_type": "code",
   "execution_count": 22,
   "metadata": {},
   "outputs": [
    {
     "data": {
      "text/plain": [
       "(99999, 4)"
      ]
     },
     "execution_count": 22,
     "metadata": {},
     "output_type": "execute_result"
    }
   ],
   "source": [
    "#Удалим выбросы\n",
    "geo_data_1 = geo_data_1[(geo_data_1['f0'] < upper) & (geo_data_1['f0'] > lower)]\n",
    "geo_data_1.shape"
   ]
  },
  {
   "cell_type": "markdown",
   "metadata": {},
   "source": [
    "**Удаление выбрасов в солбце f1:**"
   ]
  },
  {
   "cell_type": "code",
   "execution_count": 23,
   "metadata": {},
   "outputs": [
    {
     "name": "stdout",
     "output_type": "stream",
     "text": [
      "Нижняя граница -18.67\n",
      "Верхняя граница 9.07\n"
     ]
    }
   ],
   "source": [
    "#Найдем верхную и нижнюю границы\n",
    "Q1 = geo_data_1['f1'].quantile(0.25)\n",
    "Q3 = geo_data_1['f1'].quantile(0.75)\n",
    "IQR = Q3 - Q1\n",
    "lower = Q1 - 1.5*IQR\n",
    "upper = Q3 + 1.5*IQR\n",
    "print('Нижняя граница', lower.round(2))\n",
    "print('Верхняя граница', upper.round(2))"
   ]
  },
  {
   "cell_type": "code",
   "execution_count": 24,
   "metadata": {},
   "outputs": [
    {
     "data": {
      "image/png": "[encoded data removed]",
      "text/plain": [
       "<Figure size 720x360 with 1 Axes>"
      ]
     },
     "metadata": {
      "needs_background": "light"
     },
     "output_type": "display_data"
    }
   ],
   "source": [
    "#Изобразим на графике боксплот где проходят границы Межквартильного размаха\n",
    "fig, ax = plt.subplots(nrows=1,ncols=1)\n",
    "fig.set_size_inches(10, 5)\n",
    "\n",
    "geo_data_1.boxplot('f1', vert=False)\n",
    "plt.xticks(np.arange(-20, 10, 2))\n",
    "plt.xlabel('f1')\n",
    "plt.axvline(x = lower, color = 'r')\n",
    "plt.axvline(x = upper, color = 'r')\n",
    "\n",
    "plt.show()"
   ]
  },
  {
   "cell_type": "markdown",
   "metadata": {},
   "source": [
    "В данном случае распределение данных близко к нормальному, поэтому для отсеивания выбросов можно использовать метод Межквартильного размаха"
   ]
  },
  {
   "cell_type": "code",
   "execution_count": 25,
   "metadata": {},
   "outputs": [
    {
     "name": "stdout",
     "output_type": "stream",
     "text": [
      "Доля выбросов: 0.006360063600636006\n"
     ]
    }
   ],
   "source": [
    "print('Доля выбросов:', geo_data_1[(geo_data_1['f1'] > upper) | (geo_data_1['f1'] < lower)].shape[0]/\\\n",
    "     geo_data_1.shape[0])"
   ]
  },
  {
   "cell_type": "code",
   "execution_count": 26,
   "metadata": {},
   "outputs": [
    {
     "data": {
      "text/plain": [
       "(99363, 4)"
      ]
     },
     "execution_count": 26,
     "metadata": {},
     "output_type": "execute_result"
    }
   ],
   "source": [
    "#Удалим выбросы\n",
    "geo_data_1 = geo_data_1[(geo_data_1['f1'] < upper) & (geo_data_1['f1'] > lower)]\n",
    "geo_data_1.shape"
   ]
  },
  {
   "cell_type": "markdown",
   "metadata": {},
   "source": [
    "#### geo_data_2"
   ]
  },
  {
   "cell_type": "code",
   "execution_count": 27,
   "metadata": {
    "scrolled": false
   },
   "outputs": [
    {
     "name": "stderr",
     "output_type": "stream",
     "text": [
      "/opt/conda/lib/python3.9/site-packages/seaborn/_decorators.py:36: FutureWarning: Pass the following variable as a keyword arg: x. From version 0.12, the only valid positional argument will be `data`, and passing other arguments without an explicit keyword will result in an error or misinterpretation.\n",
      "  warnings.warn(\n"
     ]
    },
    {
     "data": {
      "image/png": "[encoded data removed]",
      "text/plain": [
       "<Figure size 1152x432 with 2 Axes>"
      ]
     },
     "metadata": {
      "needs_background": "light"
     },
     "output_type": "display_data"
    },
    {
     "name": "stderr",
     "output_type": "stream",
     "text": [
      "/opt/conda/lib/python3.9/site-packages/seaborn/_decorators.py:36: FutureWarning: Pass the following variable as a keyword arg: x. From version 0.12, the only valid positional argument will be `data`, and passing other arguments without an explicit keyword will result in an error or misinterpretation.\n",
      "  warnings.warn(\n"
     ]
    },
    {
     "data": {
      "image/png": "[encoded data removed]",
      "text/plain": [
       "<Figure size 1152x432 with 2 Axes>"
      ]
     },
     "metadata": {
      "needs_background": "light"
     },
     "output_type": "display_data"
    },
    {
     "name": "stderr",
     "output_type": "stream",
     "text": [
      "/opt/conda/lib/python3.9/site-packages/seaborn/_decorators.py:36: FutureWarning: Pass the following variable as a keyword arg: x. From version 0.12, the only valid positional argument will be `data`, and passing other arguments without an explicit keyword will result in an error or misinterpretation.\n",
      "  warnings.warn(\n"
     ]
    },
    {
     "data": {
      "image/png": "[encoded data removed]",
      "text/plain": [
       "<Figure size 1152x432 with 2 Axes>"
      ]
     },
     "metadata": {
      "needs_background": "light"
     },
     "output_type": "display_data"
    },
    {
     "name": "stderr",
     "output_type": "stream",
     "text": [
      "/opt/conda/lib/python3.9/site-packages/seaborn/_decorators.py:36: FutureWarning: Pass the following variable as a keyword arg: x. From version 0.12, the only valid positional argument will be `data`, and passing other arguments without an explicit keyword will result in an error or misinterpretation.\n",
      "  warnings.warn(\n"
     ]
    },
    {
     "data": {
      "image/png": "[encoded data removed]",
      "text/plain": [
       "<Figure size 1152x432 with 2 Axes>"
      ]
     },
     "metadata": {
      "needs_background": "light"
     },
     "output_type": "display_data"
    }
   ],
   "source": [
    "for column in columns:\n",
    "    #Построим графики для датасета geo_data_2\n",
    "    hix_box_plot(geo_data_2, column)"
   ]
  },
  {
   "cell_type": "markdown",
   "metadata": {},
   "source": [
    "В столбцах `f0`, `f1`, `f2` есть выбросы, поскольку данные засекречены и мы не можем однозначно сделать вывод об их реалистичности, считаю правильным их удалить. \n",
    "\n",
    "Для отсеивания выбросов будем использовать метод Межквартильного размаха"
   ]
  },
  {
   "cell_type": "markdown",
   "metadata": {},
   "source": [
    "**Удаление выбрасов в солбце f0:**"
   ]
  },
  {
   "cell_type": "code",
   "execution_count": 28,
   "metadata": {},
   "outputs": [
    {
     "name": "stdout",
     "output_type": "stream",
     "text": [
      "Нижняя граница -4.64\n",
      "Верхняя граница 4.64\n"
     ]
    }
   ],
   "source": [
    "#Найдем верхную и нижнюю границы\n",
    "Q1 = geo_data_2['f0'].quantile(0.25)\n",
    "Q3 = geo_data_2['f0'].quantile(0.75)\n",
    "IQR = Q3 - Q1\n",
    "lower = Q1 - 1.5*IQR\n",
    "upper = Q3 + 1.5*IQR\n",
    "print('Нижняя граница', lower.round(2))\n",
    "print('Верхняя граница', upper.round(2))"
   ]
  },
  {
   "cell_type": "code",
   "execution_count": 29,
   "metadata": {},
   "outputs": [
    {
     "data": {
      "image/png": "[encoded data removed]",
      "text/plain": [
       "<Figure size 720x360 with 1 Axes>"
      ]
     },
     "metadata": {
      "needs_background": "light"
     },
     "output_type": "display_data"
    }
   ],
   "source": [
    "#Изобразим на графике боксплот где проходят границы Межквартильного размаха\n",
    "fig, ax = plt.subplots(nrows=1,ncols=1)\n",
    "fig.set_size_inches(10, 5)\n",
    "\n",
    "geo_data_2.boxplot('f0', vert=False)\n",
    "plt.xticks(np.arange(-5, 5, 1))\n",
    "plt.xlabel('f0')\n",
    "plt.axvline(x = lower, color = 'r')\n",
    "plt.axvline(x = upper, color = 'r')\n",
    "\n",
    "plt.show()"
   ]
  },
  {
   "cell_type": "markdown",
   "metadata": {},
   "source": [
    "В данном случае распределение данных близко к нормальному, поэтому для отсеивания выбросов можно использовать метод Межквартильного размаха"
   ]
  },
  {
   "cell_type": "code",
   "execution_count": 30,
   "metadata": {},
   "outputs": [
    {
     "name": "stdout",
     "output_type": "stream",
     "text": [
      "Доля выбросов: 0.00733\n"
     ]
    }
   ],
   "source": [
    "print('Доля выбросов:', geo_data_2[(geo_data_2['f0'] > upper) | (geo_data_2['f0'] < lower)].shape[0]/\\\n",
    "     geo_data_2.shape[0])"
   ]
  },
  {
   "cell_type": "code",
   "execution_count": 31,
   "metadata": {},
   "outputs": [
    {
     "data": {
      "text/plain": [
       "(99267, 4)"
      ]
     },
     "execution_count": 31,
     "metadata": {},
     "output_type": "execute_result"
    }
   ],
   "source": [
    "#Удалим выбросы\n",
    "geo_data_2 = geo_data_2[(geo_data_2['f0'] < upper) & (geo_data_2['f0'] > lower)]\n",
    "geo_data_2.shape"
   ]
  },
  {
   "cell_type": "markdown",
   "metadata": {},
   "source": [
    "**Удаление выбрасов в солбце f1:**"
   ]
  },
  {
   "cell_type": "code",
   "execution_count": 32,
   "metadata": {},
   "outputs": [
    {
     "name": "stdout",
     "output_type": "stream",
     "text": [
      "Нижняя граница -4.68\n",
      "Верхняя граница 4.67\n"
     ]
    }
   ],
   "source": [
    "#Найдем верхную и нижнюю границы\n",
    "Q1 = geo_data_2['f1'].quantile(0.25)\n",
    "Q3 = geo_data_2['f1'].quantile(0.75)\n",
    "IQR = Q3 - Q1\n",
    "lower = Q1 - 1.5*IQR\n",
    "upper = Q3 + 1.5*IQR\n",
    "print('Нижняя граница', lower.round(2))\n",
    "print('Верхняя граница', upper.round(2))"
   ]
  },
  {
   "cell_type": "code",
   "execution_count": 33,
   "metadata": {},
   "outputs": [
    {
     "data": {
      "image/png": "[encoded data removed]",
      "text/plain": [
       "<Figure size 720x360 with 1 Axes>"
      ]
     },
     "metadata": {
      "needs_background": "light"
     },
     "output_type": "display_data"
    }
   ],
   "source": [
    "#Изобразим на графике боксплот где проходят границы Межквартильного размаха\n",
    "fig, ax = plt.subplots(nrows=1,ncols=1)\n",
    "fig.set_size_inches(10, 5)\n",
    "\n",
    "geo_data_2.boxplot('f1', vert=False)\n",
    "plt.xticks(np.arange(-5, 5, 1))\n",
    "plt.xlabel('f1')\n",
    "plt.axvline(x = lower, color = 'r')\n",
    "plt.axvline(x = upper, color = 'r')\n",
    "\n",
    "plt.show()"
   ]
  },
  {
   "cell_type": "markdown",
   "metadata": {},
   "source": [
    "В данном случае распределение данных близко к нормальному, поэтому для отсеивания выбросов можно использовать метод Межквартильного размаха"
   ]
  },
  {
   "cell_type": "code",
   "execution_count": 34,
   "metadata": {},
   "outputs": [
    {
     "name": "stdout",
     "output_type": "stream",
     "text": [
      "Доля выбросов: 0.006870359736871267\n"
     ]
    }
   ],
   "source": [
    "print('Доля выбросов:', geo_data_2[(geo_data_2['f1'] > upper) | (geo_data_2['f1'] < lower)].shape[0]/\\\n",
    "     geo_data_2.shape[0])"
   ]
  },
  {
   "cell_type": "code",
   "execution_count": 35,
   "metadata": {},
   "outputs": [
    {
     "data": {
      "text/plain": [
       "(98585, 4)"
      ]
     },
     "execution_count": 35,
     "metadata": {},
     "output_type": "execute_result"
    }
   ],
   "source": [
    "#Удалим выбросы\n",
    "geo_data_2 = geo_data_2[(geo_data_2['f1'] < upper) & (geo_data_2['f1'] > lower)]\n",
    "geo_data_2.shape"
   ]
  },
  {
   "cell_type": "markdown",
   "metadata": {},
   "source": [
    "**Удаление выбрасов в солбце f2:**"
   ]
  },
  {
   "cell_type": "code",
   "execution_count": 36,
   "metadata": {},
   "outputs": [
    {
     "name": "stdout",
     "output_type": "stream",
     "text": [
      "Нижняя граница -6.96\n",
      "Верхняя граница 11.95\n"
     ]
    }
   ],
   "source": [
    "#Найдем верхную и нижнюю границы\n",
    "Q1 = geo_data_2['f2'].quantile(0.25)\n",
    "Q3 = geo_data_2['f2'].quantile(0.75)\n",
    "IQR = Q3 - Q1\n",
    "lower = Q1 - 1.5*IQR\n",
    "upper = Q3 + 1.5*IQR\n",
    "print('Нижняя граница', lower.round(2))\n",
    "print('Верхняя граница', upper.round(2))"
   ]
  },
  {
   "cell_type": "code",
   "execution_count": 37,
   "metadata": {},
   "outputs": [
    {
     "data": {
      "image/png": "[encoded data removed]",
      "text/plain": [
       "<Figure size 720x360 with 1 Axes>"
      ]
     },
     "metadata": {
      "needs_background": "light"
     },
     "output_type": "display_data"
    }
   ],
   "source": [
    "#Изобразим на графике боксплот где проходят границы Межквартильного размаха\n",
    "fig, ax = plt.subplots(nrows=1,ncols=1)\n",
    "fig.set_size_inches(10, 5)\n",
    "\n",
    "geo_data_2.boxplot('f2', vert=False)\n",
    "plt.xticks(np.arange(-7, 12, 1))\n",
    "plt.xlabel('f2')\n",
    "plt.axvline(x = lower, color = 'r')\n",
    "plt.axvline(x = upper, color = 'r')\n",
    "\n",
    "plt.show()"
   ]
  },
  {
   "cell_type": "markdown",
   "metadata": {},
   "source": [
    "В данном случае распределение данных близко к нормальному, поэтому для отсеивания выбросов можно использовать метод Межквартильного размаха"
   ]
  },
  {
   "cell_type": "code",
   "execution_count": 38,
   "metadata": {},
   "outputs": [
    {
     "name": "stdout",
     "output_type": "stream",
     "text": [
      "Доля выбросов: 0.0059035350205406505\n"
     ]
    }
   ],
   "source": [
    "print('Доля выбросов:', geo_data_2[(geo_data_2['f2'] > upper) | (geo_data_2['f2'] < lower)].shape[0]/\\\n",
    "     geo_data_2.shape[0])"
   ]
  },
  {
   "cell_type": "code",
   "execution_count": 39,
   "metadata": {},
   "outputs": [
    {
     "data": {
      "text/plain": [
       "(98003, 4)"
      ]
     },
     "execution_count": 39,
     "metadata": {},
     "output_type": "execute_result"
    }
   ],
   "source": [
    "#Удалим выбросы\n",
    "geo_data_2 = geo_data_2[(geo_data_2['f2'] < upper) & (geo_data_2['f2'] > lower)]\n",
    "geo_data_2.shape"
   ]
  },
  {
   "cell_type": "code",
   "execution_count": 40,
   "metadata": {},
   "outputs": [
    {
     "name": "stdout",
     "output_type": "stream",
     "text": [
      "В фрейме geo_data_0 удалили: 1.0 % данных\n",
      "В фрейме geo_data_1 удалили: 1.0 % данных\n",
      "В фрейме geo_data_2 удалили: 2.0 % данных\n"
     ]
    }
   ],
   "source": [
    "# Посмотрим сколько данных удалили\n",
    "print('В фрейме geo_data_0 удалили:', round(1 - geo_data_0.shape[0] / 100000, 2) * 100, '% данных')\n",
    "print('В фрейме geo_data_1 удалили:', round(1 - geo_data_1.shape[0] / 100000, 2) * 100, '% данных')\n",
    "print('В фрейме geo_data_2 удалили:', round(1 - geo_data_2.shape[0] / 100000, 2) * 100, '% данных')"
   ]
  },
  {
   "cell_type": "markdown",
   "metadata": {},
   "source": [
    "#### Вывод по исследовательскому анализу"
   ]
  },
  {
   "cell_type": "markdown",
   "metadata": {},
   "source": [
    "На этапе исследовательского анализа данных были обнаружены выбросы. Поскольку данные засекречены и мы не можем однозначно сделать вывод об их реалистичности, Было принято решения об удалении выбросов.\n",
    "\n",
    "Для отсеивания выбросов использовали метод Межквартильного размаха"
   ]
  },
  {
   "cell_type": "markdown",
   "metadata": {},
   "source": [
    "###  Корреляционный анализ"
   ]
  },
  {
   "cell_type": "markdown",
   "metadata": {},
   "source": [
    "В связи с тем, что не все признаки распределены нормально, для корреляционного анализа используем матрицу Phik, которая устойчива к ненормальному распределению, позволяет учитывать нелинейные зависимости и работает с различными типами признаков"
   ]
  },
  {
   "cell_type": "markdown",
   "metadata": {},
   "source": [
    "#### geo_data_0"
   ]
  },
  {
   "cell_type": "code",
   "execution_count": 41,
   "metadata": {},
   "outputs": [
    {
     "data": {
      "image/png": "[encoded data removed]",
      "text/plain": [
       "<Figure size 720x576 with 2 Axes>"
      ]
     },
     "metadata": {
      "needs_background": "light"
     },
     "output_type": "display_data"
    }
   ],
   "source": [
    "# вычисление коэффициентов корреляции phi для датафрейма geo_data_0\n",
    "phik_overview = geo_data_0.phik_matrix(interval_cols=columns)\n",
    "\n",
    "# визуализация тепловой карты коэффициентов корреляции\n",
    "plot_correlation_matrix(\n",
    "    phik_overview.values,\n",
    "    x_labels=phik_overview.columns,\n",
    "    y_labels=phik_overview.index,\n",
    "    title=r\"correlation $\\phi_K$\",\n",
    "    fontsize_factor=1.5,\n",
    "    figsize=(10, 8)\n",
    ")"
   ]
  },
  {
   "cell_type": "markdown",
   "metadata": {},
   "source": [
    "Из анализа матрицы корреляции датасета geo_data_0 видно, что мультиколлинеарности нет.\n",
    "\n",
    "При этом целевой признак product слабо коррелирует (0,48) с признаком f2.\n",
    "\n",
    "Также прослеживается сильная корреляция между признаками f1 и f0.\n",
    "\n",
    "Остальные признаки коррелируют между собой слабо."
   ]
  },
  {
   "cell_type": "markdown",
   "metadata": {},
   "source": [
    "#### geo_data_1"
   ]
  },
  {
   "cell_type": "code",
   "execution_count": 42,
   "metadata": {},
   "outputs": [
    {
     "data": {
      "image/png": "[encoded data removed]",
      "text/plain": [
       "<Figure size 720x576 with 2 Axes>"
      ]
     },
     "metadata": {
      "needs_background": "light"
     },
     "output_type": "display_data"
    }
   ],
   "source": [
    "# вычисление коэффициентов корреляции phi для датафрейма geo_data_1\n",
    "phik_overview = geo_data_1.phik_matrix(interval_cols=columns)\n",
    "\n",
    "# визуализация тепловой карты коэффициентов корреляции\n",
    "plot_correlation_matrix(\n",
    "    phik_overview.values,\n",
    "    x_labels=phik_overview.columns,\n",
    "    y_labels=phik_overview.index,\n",
    "    title=r\"correlation $\\phi_K$\",\n",
    "    fontsize_factor=1.5,\n",
    "    figsize=(10, 8)\n",
    ")"
   ]
  },
  {
   "cell_type": "markdown",
   "metadata": {},
   "source": [
    "Из анализа матрицы корреляции датасета geo_data_1 видно, что мультиколлинеарность прослеживается между целевым признаком (product) и признаком f2 (коэффициент корреляции 0.98). Избавляться от нее на данном этапе не будем, так как это корреляция с целевым признаком.\n",
    "\n",
    "Также прослеживается средняя корреляция между целевым признаком (product) и признаком f0 (коэффициент корреляции 0.63)\n",
    "\n",
    "Остальные признаки коррелируют между собой слабо."
   ]
  },
  {
   "cell_type": "markdown",
   "metadata": {},
   "source": [
    "#### geo_data_2"
   ]
  },
  {
   "cell_type": "code",
   "execution_count": 43,
   "metadata": {},
   "outputs": [
    {
     "data": {
      "image/png": "[encoded data removed]",
      "text/plain": [
       "<Figure size 720x576 with 2 Axes>"
      ]
     },
     "metadata": {
      "needs_background": "light"
     },
     "output_type": "display_data"
    }
   ],
   "source": [
    "# вычисление коэффициентов корреляции phi для датафрейма geo_data_2\n",
    "phik_overview = geo_data_2.phik_matrix(interval_cols=columns)\n",
    "\n",
    "# визуализация тепловой карты коэффициентов корреляции\n",
    "plot_correlation_matrix(\n",
    "    phik_overview.values,\n",
    "    x_labels=phik_overview.columns,\n",
    "    y_labels=phik_overview.index,\n",
    "    title=r\"correlation $\\phi_K$\",\n",
    "    fontsize_factor=1.5,\n",
    "    figsize=(10, 8)\n",
    ")"
   ]
  },
  {
   "cell_type": "markdown",
   "metadata": {},
   "source": [
    "Из анализа матрицы корреляции датасета geo_data_2 видно, что мультиколлинеарности нет.\n",
    "\n",
    "При этом целевой признак product слабо коррелирует (0,44) с признаком f2.\n",
    "\n",
    "Остальные признаки коррелируют между собой слабо."
   ]
  },
  {
   "cell_type": "markdown",
   "metadata": {},
   "source": [
    "### Вывод по загрузке и подготовка данных"
   ]
  },
  {
   "cell_type": "markdown",
   "metadata": {},
   "source": [
    "**Исходные данные**  \n",
    "\n",
    "Данные геологоразведки трёх регионов находятся в файлах: \n",
    "    \n",
    "- `/datasets/geo_data_0.csv`\n",
    "\n",
    "- `/datasets/geo_data_1.csv`\n",
    "    \n",
    "- `/datasets/geo_data_2.csv`\n",
    "\n",
    "- **id** — уникальный идентификатор скважины;\n",
    "- **f0, f1, f2** — три признака точек \n",
    "- **product** — объём запасов в скважине (тыс. баррелей).\n",
    "\n",
    "---\n",
    "\n",
    "**Предобработка данных**\n",
    "\n",
    "Данные в таблицах соответствуют описанию. В каждом из трех рассматриваемых датафреймах содержится: 100 000 строк / 5 столбцов\n",
    "\n",
    "На этапе предобработке данных проверили, что в данных:\n",
    "\n",
    "- нет дубликатов\n",
    "- нет пропусков\n",
    "- типы столбцов указаны верно\n",
    "- Название столбцов корректны\n",
    "\n",
    "Столбец `id` сделали индексом\n",
    "\n",
    "---\n",
    "\n",
    "**Исследовательский анализ**\n",
    "\n",
    "На этапе исследовательского анализа данных были обнаружены выбросы. Поскольку данные засекречены и мы не можем однозначно сделать вывод об их реалистичности, Было принято решения об удалении выбросов.\n",
    "\n",
    "Для отсеивания выбросов использовали метод Межквартильного размаха\n",
    "\n",
    "---\n",
    "\n",
    "**Корреляционный анализ**\n",
    "\n",
    "В связи с тем, что не все признаки распределены нормально, для корреляционного анализа использовали матрицу Phik, которая устойчива к ненормальному распределению, позволяет учитывать нелинейные зависимости и работает с различными типами признаков.\n",
    "\n",
    "- Из анализа матрицы корреляции датасета `geo_data_0` видно, что мультиколлинеарности нет.\n",
    "\n",
    "    При этом целевой признак product слабо коррелирует (0,48) с признаком f2.\n",
    "\n",
    "    Также прослеживается сильная корреляция между признаками f1 и f0.\n",
    "\n",
    "    Остальные признаки коррелируют между собой слабо.\n",
    "\n",
    "\n",
    "- Из анализа матрицы корреляции датасета `geo_data_1` видно, что мультиколлинеарность прослеживается между целевым признаком product и признаком f2 (коэффициент корреляции 0.98). Избавляться от нее на данном этапе не будем, так как это корреляция с целевым признаком.\n",
    "\n",
    "    Также прослеживается средняя корреляция между целевым признаком (product) и признаком f0 (коэффициент корреляции 0.63)\n",
    "\n",
    "    Остальные признаки коррелируют между собой слабо.\n",
    "\n",
    "- Из анализа матрицы корреляции датасета `geo_data_2` видно, что мультиколлинеарности нет.\n",
    "\n",
    "    При этом целевой признак product слабо коррелирует (0,44) с признаком f2.\n",
    "\n",
    "    Остальные признаки коррелируют между собой слабо."
   ]
  },
  {
   "cell_type": "markdown",
   "metadata": {},
   "source": [
    "## Обучение и проверка модели"
   ]
  },
  {
   "cell_type": "markdown",
   "metadata": {},
   "source": [
    "*Обучите и проверьте модель для каждого региона:*\n",
    "- *2.1. Разбейте данные на обучающую и валидационную выборки в соотношении 75:25.*\n",
    "- *2.2. Обучите модель и сделайте предсказания на валидационной выборке.*\n",
    "- *2.3. Сохраните предсказания и правильные ответы на валидационной выборке.*\n",
    "- *2.4. Напечатайте на экране средний запас предсказанного сырья и RMSE модели.*\n",
    "- *2.5. Проанализируйте результаты.*"
   ]
  },
  {
   "cell_type": "code",
   "execution_count": 44,
   "metadata": {},
   "outputs": [],
   "source": [
    "def LinearRegression_model(df):\n",
    "    # зададим целевой признак и подготовим данные\n",
    "    X = df.drop(['product'], axis=1)\n",
    "    y = df['product'] \n",
    "    \n",
    "    # разбьём данные на обучающую и валидационную выборки в соотношении 75:25\n",
    "    X_train, X_valid, y_train, y_valid = \\\n",
    "    train_test_split(X, y, test_size=0.25, random_state=RANDOM_STATE)\n",
    "    \n",
    "    # масштабируем количественные признаки\n",
    "    scaler = StandardScaler()\n",
    "    X_train = scaler.fit_transform(X_train)\n",
    "    X_valid = scaler.transform(X_valid)\n",
    "    \n",
    "    # инициируем модели линейной регрессии\n",
    "    model = LinearRegression()\n",
    "    # обучим модель\n",
    "    model.fit(X_train, y_train)\n",
    "    # сделаем прогнозы\n",
    "    predicted_valid = model.predict(X_valid)\n",
    "    \n",
    "    # расчет метрики rmse\n",
    "    rmse = (mean_squared_error(y_valid, predicted_valid))**0.5\n",
    "    \n",
    "    # расчет среднего запаса сырья\n",
    "    predicted_valid_mean = predicted_valid.mean()\n",
    "    \n",
    "    y_valid = y_valid.reset_index(drop=True)\n",
    "    predicted_valid = pd.Series(predicted_valid)\n",
    "    \n",
    "    return y_valid, predicted_valid, rmse, predicted_valid_mean"
   ]
  },
  {
   "cell_type": "code",
   "execution_count": 45,
   "metadata": {},
   "outputs": [],
   "source": [
    "#Предскажем средний запас сырья и RMSE для каждого региона\n",
    "y_valid_0, predicted_valid_0, rmse_0, predicted_valid_mean_0 = LinearRegression_model(geo_data_0)\n",
    "y_valid_1, predicted_valid_1, rmse_1, predicted_valid_mean_1 = LinearRegression_model(geo_data_1)\n",
    "y_valid_2, predicted_valid_2, rmse_2, predicted_valid_mean_2 = LinearRegression_model(geo_data_2)"
   ]
  },
  {
   "cell_type": "code",
   "execution_count": 46,
   "metadata": {},
   "outputs": [
    {
     "name": "stdout",
     "output_type": "stream",
     "text": [
      "\u001b[1mрегион geo_data_0\u001b[0m\n",
      "средний запас сырья для geo_data_0: 92.35 (тыс. баррелей)\n",
      "RMSE для geo_data_0: 37.82\n",
      "*****************************************************************************************************************************\n",
      "\u001b[1mрегион geo_data_1\u001b[0m\n",
      "средний запас сырья для geo_data_1: 68.96 (тыс. баррелей)\n",
      "RMSE для geo_data_1: 0.89\n",
      "*****************************************************************************************************************************\n",
      "\u001b[1mрегион geo_data_2\u001b[0m\n",
      "средний запас сырья для geo_data_2: 94.95 (тыс. баррелей)\n",
      "RMSE для geo_data_2: 40.13\n",
      "*****************************************************************************************************************************\n"
     ]
    }
   ],
   "source": [
    "print(f'\\033[1mрегион geo_data_0\\033[0m')\n",
    "print('средний запас сырья для geo_data_0:', round(predicted_valid_mean_0, 2), '(тыс. баррелей)')\n",
    "print('RMSE для geo_data_0:', round(rmse_0, 2))\n",
    "print('*' * 125)\n",
    "\n",
    "print(f'\\033[1mрегион geo_data_1\\033[0m')\n",
    "print('средний запас сырья для geo_data_1:', round(predicted_valid_mean_1, 2), '(тыс. баррелей)')\n",
    "print('RMSE для geo_data_1:', round(rmse_1, 2))\n",
    "print('*' * 125)\n",
    "\n",
    "print(f'\\033[1mрегион geo_data_2\\033[0m')\n",
    "print('средний запас сырья для geo_data_2:', round(predicted_valid_mean_2, 2), '(тыс. баррелей)')\n",
    "print('RMSE для geo_data_2:', round(rmse_2, 2))\n",
    "print('*' * 125)"
   ]
  },
  {
   "cell_type": "markdown",
   "metadata": {},
   "source": [
    "**Вывод**\n",
    "\n",
    "На данном этапе обучили и проверили модель линейной регрессии для каждого региона:\n",
    "\n",
    "- Самый большой средний запас сырья получился в регионе geo_data_2.\n",
    "- Самая маленькая ошибка RMSE в регионе geo_data_1.\n",
    "\n",
    "---\n",
    "\n",
    "**регион geo_data_0**\n",
    "\n",
    "- средний запас сырья для geo_data_0: 92.35 (тыс. баррелей)    \n",
    "- RMSE для geo_data_0: 37.82\n",
    "*****************************************************************************************************************************\n",
    "**регион geo_data_1** \n",
    "\n",
    "- средний запас сырья для geo_data_1: 68.96 (тыс. баррелей)\n",
    "- RMSE для geo_data_1: 0.89\n",
    "*****************************************************************************************************************************\n",
    "**регион geo_data_2**\n",
    "\n",
    "- средний запас сырья для geo_data_2: 94.95 (тыс. баррелей)\n",
    "- RMSE для geo_data_2: 40.13\n"
   ]
  },
  {
   "cell_type": "markdown",
   "metadata": {},
   "source": [
    "## Подготовка к расчёту прибыли"
   ]
  },
  {
   "cell_type": "markdown",
   "metadata": {},
   "source": [
    "*Подготовьтесь к расчёту прибыли:*\n",
    "- *3.1. Все ключевые значения для расчётов сохраните в отдельных переменных.*\n",
    "- *3.2. Рассчитайте достаточный объём сырья для безубыточной разработки новой скважины. Сравните полученный объём сырья со средним запасом в каждом регионе.*\n",
    "- *3.3. Напишите выводы по этапу подготовки расчёта прибыли.*\n",
    "\n",
    "---\n",
    "\n",
    "- При разведке региона исследуют 500 точек, из которых с помощью машинного обучения выбирают 200 лучших для разработки.\n",
    "Бюджет на разработку скважин в регионе — 10 млрд рублей.\n",
    "- При нынешних ценах один баррель сырья приносит 450 рублей дохода. Доход с каждой единицы продукта составляет 450 тыс. рублей, поскольку объём указан в тысячах баррелей.\n",
    "- После оценки рисков нужно оставить лишь те регионы, в которых вероятность убытков меньше 2.5%. Среди них выбирают регион с наибольшей средней прибылью."
   ]
  },
  {
   "cell_type": "markdown",
   "metadata": {},
   "source": [
    "### Определение переменных"
   ]
  },
  {
   "cell_type": "code",
   "execution_count": 47,
   "metadata": {},
   "outputs": [],
   "source": [
    "points = 500\n",
    "best_points = 200\n",
    "development_budget = 10 * 10**9\n",
    "\n",
    "price_per_barrel = 450\n",
    "income = 450000\n",
    "\n",
    "loss_threshold = 2.5"
   ]
  },
  {
   "cell_type": "markdown",
   "metadata": {},
   "source": [
    "### Расчет объема сырья"
   ]
  },
  {
   "cell_type": "code",
   "execution_count": 48,
   "metadata": {},
   "outputs": [
    {
     "name": "stdout",
     "output_type": "stream",
     "text": [
      "Бюджет на разработку 1 скважины в регионе: 50000000.0 руб.\n",
      "Объём сырья для безубыточной разработки новой скважины 111.11 (тыс. баррелей)\n"
     ]
    }
   ],
   "source": [
    "# Определим бюджет на разработку 1 скважины в регионе\n",
    "print('Бюджет на разработку 1 скважины в регионе:', development_budget / best_points, 'руб.')\n",
    "\n",
    "# Определим объём сырья для безубыточной разработки новой скважины (тыс. баррелей)\n",
    "min_volume_materials = development_budget / best_points / income\n",
    "print('Объём сырья для безубыточной разработки новой скважины', round(min_volume_materials, 2), '(тыс. баррелей)')"
   ]
  },
  {
   "cell_type": "markdown",
   "metadata": {},
   "source": [
    "**Сравним полученный объём сырья со средним запасом в каждом регионе.**"
   ]
  },
  {
   "cell_type": "code",
   "execution_count": 49,
   "metadata": {},
   "outputs": [
    {
     "name": "stdout",
     "output_type": "stream",
     "text": [
      "Отклонение среднего объема добычи сырья от точки безубыточности в регионе geo_data_0: 18.76 (тыс. баррелей)\n",
      "Отклонение среднего объема добычи сырья от точки безубыточности в регионе geo_data_1: 42.15 (тыс. баррелей)\n",
      "Отклонение среднего объема добычи сырья от точки безубыточности в регионе geo_data_2: 16.16 (тыс. баррелей)\n"
     ]
    }
   ],
   "source": [
    "print('Отклонение среднего объема добычи сырья от точки безубыточности в регионе geo_data_0:',\\\n",
    "     round(min_volume_materials - predicted_valid_mean_0, 2), '(тыс. баррелей)')\n",
    "\n",
    "print('Отклонение среднего объема добычи сырья от точки безубыточности в регионе geo_data_1:',\\\n",
    "     round(min_volume_materials - predicted_valid_mean_1, 2), '(тыс. баррелей)')\n",
    "\n",
    "print('Отклонение среднего объема добычи сырья от точки безубыточности в регионе geo_data_2:',\\\n",
    "     round(min_volume_materials - predicted_valid_mean_2, 2), '(тыс. баррелей)')"
   ]
  },
  {
   "cell_type": "markdown",
   "metadata": {},
   "source": [
    "### Вывод по подготовке к расчёту прибыли"
   ]
  },
  {
   "cell_type": "markdown",
   "metadata": {},
   "source": [
    "На данном этапе работы определили:\n",
    "- Бюджет на разработку 1 скважины в регионе: 50000000.0\n",
    "- Объем сырья для безубыточной разработки новой скважины 111.11\n",
    "\n",
    "Рассчитали отклонение среднего объема добычи сырья от точки безубыточности в каждом регионе:\n",
    "- для региона geo_data_0: 18.76 (тыс. баррелей)\n",
    "- для региона geo_data_1: 42.15 (тыс. баррелей)\n",
    "- для региона geo_data_2: 16.16 (тыс. баррелей)  \n",
    "\n",
    "Самое большое отклонение среднего объема добычи сырья от точки безубыточности получилось в регионе geo_data_1."
   ]
  },
  {
   "cell_type": "markdown",
   "metadata": {},
   "source": [
    "## Расчёт прибыли и рисков "
   ]
  },
  {
   "cell_type": "markdown",
   "metadata": {},
   "source": [
    "*Напишите функцию для расчёта прибыли по выбранным скважинам и предсказаниям модели:*\n",
    "- *Выберите скважины с максимальными значениями предсказаний.*\n",
    "- *Просуммируйте целевое значение объёма сырья, соответствующее этим предсказаниям.*\n",
    "- *Рассчитайте прибыль для полученного объёма сырья.*\n",
    "\n",
    "*Посчитайте риски и прибыль для каждого региона:*\n",
    "- *Примените технику Bootstrap с 1000 выборок, чтобы найти распределение прибыли.*\n",
    "- *Найдите среднюю прибыль, 95%-й доверительный интервал и риск убытков. Убыток — это отрицательная прибыль.*\n",
    "- *Напишите выводы: предложите регион для разработки скважин и обоснуйте выбор*."
   ]
  },
  {
   "cell_type": "code",
   "execution_count": 50,
   "metadata": {},
   "outputs": [],
   "source": [
    "#функция для расчёта прибыли по выбранным скважинам и предсказаниям модели\n",
    "def profit_calculation(target, predicted):\n",
    "    df = pd.concat([target, predicted], axis=1)\n",
    "    df.columns = ['target', 'predicted']\n",
    "    selected = df.sort_values(by = 'predicted', ascending = False)[:best_points] \n",
    "    return income * selected['target'].sum() - development_budget"
   ]
  },
  {
   "cell_type": "code",
   "execution_count": 51,
   "metadata": {},
   "outputs": [
    {
     "name": "stdout",
     "output_type": "stream",
     "text": [
      "Прибыль для полученного объёма сырья в регионе geo_data_0: 3 252 359 903.11 руб.\n",
      "Прибыль для полученного объёма сырья в регионе geo_data_1: 2 415 086 696.68 руб.\n",
      "Прибыль для полученного объёма сырья в регионе geo_data_1: 2 385 314 465.93 руб.\n"
     ]
    }
   ],
   "source": [
    "print(f'Прибыль для полученного объёма сырья в регионе geo_data_0: \\\n",
    "{round(profit_calculation(y_valid_0, predicted_valid_0), 2):,}'.replace(',', ' '), 'руб.')\n",
    "\n",
    "print(f'Прибыль для полученного объёма сырья в регионе geo_data_1: \\\n",
    "{round(profit_calculation(y_valid_1, predicted_valid_1), 2):,}'.replace(',', ' '), 'руб.')\n",
    "\n",
    "print(f'Прибыль для полученного объёма сырья в регионе geo_data_1: \\\n",
    "{round(profit_calculation(y_valid_2, predicted_valid_2), 2):,}'.replace(',', ' '), 'руб.')"
   ]
  },
  {
   "cell_type": "markdown",
   "metadata": {},
   "source": [
    "Применим технику Bootstrap с 1000 выборок, чтобы найти распределение прибыли."
   ]
  },
  {
   "cell_type": "code",
   "execution_count": 52,
   "metadata": {},
   "outputs": [],
   "source": [
    "def bootstrap (target, predicted):\n",
    "    state = np.random.RandomState(12345)\n",
    "    values = []\n",
    "    for i in range(1000):\n",
    "        target_subsample = target.sample(n=points, replace=True, random_state=state)\n",
    "        pred_subsumple = predicted[target_subsample.index]\n",
    "        \n",
    "        values.append(profit_calculation(target_subsample, pred_subsumple))\n",
    "        \n",
    "    values = pd.Series(values)\n",
    "    values_mean = values.mean()\n",
    "    lower = round(values.quantile(0.025), 2)\n",
    "    upper = round(values.quantile(0.975), 2)\n",
    "    \n",
    "    #95%-й доверительный интервал\n",
    "    confidence_interval = (lower, upper)\n",
    "    # риск убытков\n",
    "    risk_of_losses = len(values[values < 0]) / len(values) * 100\n",
    "    \n",
    "    print(f'Средняя прибыль:, {round(values_mean,2):,}'.replace(',', ' '),'руб.')\n",
    "    print(f'95% доверительный интервал:{confidence_interval}')\n",
    "    print('Процент риска:', round(risk_of_losses,2), '%')\n",
    "    "
   ]
  },
  {
   "cell_type": "code",
   "execution_count": 53,
   "metadata": {},
   "outputs": [
    {
     "name": "stdout",
     "output_type": "stream",
     "text": [
      "Для региона geo_data_0:\n",
      "Средняя прибыль:  393 086 331.86 руб.\n",
      "95% доверительный интервал:(-146392843.7, 898526291.75)\n",
      "Процент риска: 6.6 %\n",
      "*****************************************************************************************************************************\n",
      "Для региона geo_data_1:\n",
      "Средняя прибыль:  455 772 670.52 руб.\n",
      "95% доверительный интервал:(55766165.53, 851765420.27)\n",
      "Процент риска: 1.5 %\n",
      "*****************************************************************************************************************************\n",
      "Для региона geo_data_2:\n",
      "Средняя прибыль:  375 536 745.74 руб.\n",
      "95% доверительный интервал:(-136944412.12, 857034891.82)\n",
      "Процент риска: 7.7 %\n",
      "*****************************************************************************************************************************\n"
     ]
    }
   ],
   "source": [
    "print('Для региона geo_data_0:')\n",
    "bootstrap(y_valid_0, predicted_valid_0)\n",
    "print('*' * 125)\n",
    "\n",
    "print('Для региона geo_data_1:')\n",
    "bootstrap(y_valid_1, predicted_valid_1)\n",
    "print('*' * 125)\n",
    "\n",
    "print('Для региона geo_data_2:')\n",
    "bootstrap(y_valid_2, predicted_valid_2)\n",
    "print('*' * 125)"
   ]
  },
  {
   "cell_type": "markdown",
   "metadata": {},
   "source": [
    "**Вывод**\n",
    "\n",
    "Для нахождения прибыли применили технику Bootstrap с 1000 выборок.\n",
    "Для каждого региона была рассчитана средняя прибыль, 95%-й доверительный интервал и вероятность убытков.\n",
    "\n",
    "Для региона geo_data_0:\n",
    "- Средняя прибыль:  393 086 331.86 руб.\n",
    "- 95% доверительный интервал:(-146392843.7, 898526291.75)\n",
    "- Процент риска: 6.6 %\n",
    "*****************************************************************************************************************************\n",
    "Для региона geo_data_1:\n",
    "- Средняя прибыль:  455 772 670.52 руб.\n",
    "- 95% доверительный интервал:(55766165.53, 851765420.27)\n",
    "- Процент риска: 1.5 %\n",
    "*****************************************************************************************************************************\n",
    "Для региона geo_data_2:\n",
    "- Средняя прибыль:  375 536 745.74 руб.\n",
    "- 95% доверительный интервал:(-136944412.12, 857034891.82)\n",
    "- Процент риска: 7.7 %\n",
    "    \n",
    "Следовательно для разработки скважин можно порекомендовать регион geo_data_1, с наименьшим процентом риска (1.5%) и наибольшей средней прибылью (455 772 670.52 руб.). \n",
    "\n",
    "Отметим, что в регионах geo_data_0 и geo_data_2 вероятность убытков составляет 6.6% и 7.7% соответственно, что превышает максимальную допустимую вероятность (2.5%)."
   ]
  },
  {
   "cell_type": "markdown",
   "metadata": {},
   "source": [
    "## Общий вывод"
   ]
  },
  {
   "cell_type": "markdown",
   "metadata": {},
   "source": [
    "**Выбор локации для скважины**\n",
    "\n",
    "\n",
    "Предоставлены пробы нефти в трёх регионах: в каждом 10 000 месторождений, где измерили качество нефти и объём её запасов. Нужно построить модель машинного обучения, которая поможет определить регион, где добыча принесёт наибольшую прибыль.\n",
    "\n",
    "Шаги для выбора локации:\n",
    "\n",
    "- В избранном регионе ищут месторождения, для каждого определяют значения признаков;\n",
    "- Строят модель и оценивают объём запасов;\n",
    "- Выбирают месторождения с самым высокими оценками значений. Количество месторождений зависит от бюджета компании и стоимости разработки одной скважины;\n",
    "- Прибыль равна суммарной прибыли отобранных месторождений.\n",
    "\n",
    "**Цель исследования**\n",
    "\n",
    "Определить, где бурить новую скважину.\n",
    "\n",
    "---\n",
    "\n",
    "**Задачи исследования**\n",
    "\n",
    "Построить модель для определения региона, где добыча принесёт наибольшую прибыль.\n",
    "\n",
    "---\n",
    "\n",
    "**Исходные данные**  \n",
    "\n",
    "Данные геологоразведки трёх регионов находятся в файлах: \n",
    "    \n",
    "- `/datasets/geo_data_0.csv`\n",
    "\n",
    "- `/datasets/geo_data_1.csv`\n",
    "    \n",
    "- `/datasets/geo_data_2.csv`\n",
    "\n",
    "- **id** — уникальный идентификатор скважины;\n",
    "- **f0, f1, f2** — три признака точек \n",
    "- **product** — объём запасов в скважине (тыс. баррелей).\n",
    "\n",
    "---\n",
    "**Предобработка данных**\n",
    "\n",
    "На этапе предобработки данных убедились, что данные в таблицах соответствуют описанию. В каждом из трех рассматриваемых датафреймах содержится: 100 000 строк / 5 столбцов\n",
    "\n",
    "На этапе предобработке данных проверили, что в данных:\n",
    "\n",
    "- нет дубликатов\n",
    "- нет пропусков\n",
    "- типы столбцов указаны верно\n",
    "- название столбцов корректны\n",
    "\n",
    "Столбец id сделали индексом\n",
    "\n",
    "---\n",
    "\n",
    "**Исследовательский анализ данных**\n",
    "\n",
    "На этапе исследовательского анализа данных были обнаружены выбросы. Поскольку данные засекречены и мы не можем однозначно сделать вывод об их реалистичности, Было принято решение об удалении выбросов.\n",
    "\n",
    "Для отсеивания выбросов использовали метод Межквартильного размаха\n",
    "\n",
    "---\n",
    "\n",
    "**Корреляционный анализ**\n",
    "\n",
    "В связи с тем, что не все признаки распределены нормально, для корреляционного анализа использовали матрицу Phik, которая устойчива к ненормальному распределению, позволяет учитывать нелинейные зависимости и работает с различными типами признаков.\n",
    "\n",
    "- Из анализа матрицы корреляции датасета `geo_data_0` видно, что мультиколлинеарности нет.\n",
    "\n",
    "    При этом целевой признак product слабо коррелирует (0,48) с признаком f2.\n",
    "\n",
    "    Также прослеживается сильная корреляция между признаками f1 и f0.\n",
    "\n",
    "    Остальные признаки коррелируют между собой слабо.\n",
    "\n",
    "\n",
    "- Из анализа матрицы корреляции датасета `geo_data_1` видно, что мультиколлинеарность прослеживается между целевым признаком product и признаком f2 (коэффициент корреляции 0.98). Избавляться от нее на данном этапе не будем, так как это корреляция с целевым признаком.\n",
    "\n",
    "    Также прослеживается средняя корреляция между целевым признаком (product) и признаком f0 (коэффициент корреляции 0.63)\n",
    "\n",
    "    Остальные признаки коррелируют между собой слабо.\n",
    "    \n",
    "\n",
    "- Из анализа матрицы корреляции датасета `geo_data_2` видно, что мультиколлинеарности нет.\n",
    "\n",
    "    При этом целевой признак product слабо коррелирует (0,44) с признаком f2.\n",
    "\n",
    "    Остальные признаки коррелируют между собой слабо.\n",
    "    \n",
    "---\n",
    "\n",
    "**Обучение и проверка модели**\n",
    "\n",
    "На данном этапе обучили и проверили модель линейной регрессии для каждого региона:\n",
    "\n",
    "- Самый большой средний запас сырья получился в регионе geo_data_2.\n",
    "- Самая маленькая ошибка RMSE в регионе geo_data_1.\n",
    "\n",
    "**регион geo_data_0**\n",
    "\n",
    "- средний запас сырья для geo_data_0: 92.35 (тыс. баррелей)    \n",
    "- RMSE для geo_data_0: 37.82\n",
    "*****************************************************************************************************************************\n",
    "**регион geo_data_1** \n",
    "\n",
    "- средний запас сырья для geo_data_1: 68.96 (тыс. баррелей)\n",
    "- RMSE для geo_data_1: 0.89\n",
    "*****************************************************************************************************************************\n",
    "**регион geo_data_2**\n",
    "\n",
    "- средний запас сырья для geo_data_2: 94.95 (тыс. баррелей)\n",
    "- RMSE для geo_data_2: 40.13\n",
    "\n",
    "---\n",
    "\n",
    "**Подготовка к расчёту прибыли**\n",
    "\n",
    "На данном этапе работы определили:\n",
    "- Бюджет на разработку 1 скважины в регионе: 50000000 руб.\n",
    "- Объем сырья для безубыточной разработки новой скважины 111.11 (тыс. баррелей)\n",
    "\n",
    "Рассчитали отклонение среднего объема добычи сырья от точки безубыточности в каждом регионе:\n",
    "- для региона `geo_data_0`: 18.76 (тыс. баррелей)\n",
    "- для региона `geo_data_1`: 42.15 (тыс. баррелей)\n",
    "- для региона `geo_data_2`: 16.16 (тыс. баррелей)  \n",
    "\n",
    "Самое большое отклонение среднего объема добычи сырья от точки безубыточности получилось в регионе geo_data_1.\n",
    "\n",
    "---\n",
    "\n",
    "**Расчёт прибыли и рисков**\n",
    "\n",
    "Для нахождения прибыли применили технику Bootstrap с 1000 выборок. Для каждого региона была рассчитана средняя прибыль, 95%-й доверительный интервал и вероятность убытков.\n",
    "\n",
    "Для региона `geo_data_0`: \n",
    "- Средняя прибыль: 393 086 331.86 руб. \n",
    "- 95% доверительный интервал:(-146392843.7, 898526291.75) \n",
    "- Процент риска: 6.6 %\n",
    "\n",
    "Для региона `geo_data_1`: \n",
    "- Средняя прибыль: 455 772 670.52 руб. \n",
    "- 95% доверительный интервал:(55766165.53, 851765420.27) \n",
    "- Процент риска: 1.5 %\n",
    "\n",
    "Для региона `geo_data_2`: \n",
    "- Средняя прибыль: 375 536 745.74 руб. \n",
    "- 95% доверительный интервал:(-136944412.12, 857034891.82) \n",
    "- Процент риска: 7.7 %\n",
    "\n",
    "`Следовательно для разработки скважин можно порекомендовать регион geo_data_1, с наименьшим процентом риска (1.5%) и наибольшей средней прибылью (455 772 670.52 руб.).`\n",
    "\n",
    "Отметим, что в регионах geo_data_0 и geo_data_2 вероятность убытков составляет 6.6% и 7.7% соответственно, что превышает максимальную допустимую вероятность (2.5%)."
   ]
  },
  {
   "cell_type": "code",
   "execution_count": null,
   "metadata": {},
   "outputs": [],
   "source": []
  }
 ],
 "metadata": {
  "ExecuteTimeLog": [
   {
    "duration": 1195,
    "start_time": "2024-06-13T17:59:42.011Z"
   },
   {
    "duration": 2,
    "start_time": "2024-06-13T17:59:51.386Z"
   },
   {
    "duration": 1528,
    "start_time": "2024-06-13T18:01:07.080Z"
   },
   {
    "duration": 3,
    "start_time": "2024-06-13T18:01:45.677Z"
   },
   {
    "duration": 310,
    "start_time": "2024-06-13T18:01:48.056Z"
   },
   {
    "duration": 4,
    "start_time": "2024-06-13T18:02:34.298Z"
   },
   {
    "duration": 112,
    "start_time": "2024-06-13T18:03:14.033Z"
   },
   {
    "duration": 1158,
    "start_time": "2024-06-14T16:46:53.480Z"
   },
   {
    "duration": 1473,
    "start_time": "2024-06-14T16:46:54.640Z"
   },
   {
    "duration": 4,
    "start_time": "2024-06-14T16:46:56.114Z"
   },
   {
    "duration": 98,
    "start_time": "2024-06-14T16:46:56.119Z"
   },
   {
    "duration": 89,
    "start_time": "2024-06-14T16:47:39.344Z"
   },
   {
    "duration": 95,
    "start_time": "2024-06-14T16:48:39.490Z"
   },
   {
    "duration": 4,
    "start_time": "2024-06-14T16:52:14.519Z"
   },
   {
    "duration": 3,
    "start_time": "2024-06-14T16:52:26.471Z"
   },
   {
    "duration": 246,
    "start_time": "2024-06-14T16:56:42.559Z"
   },
   {
    "duration": 2599,
    "start_time": "2024-06-14T17:00:36.675Z"
   },
   {
    "duration": 86,
    "start_time": "2024-06-14T17:02:23.339Z"
   },
   {
    "duration": 2695,
    "start_time": "2024-06-14T17:02:41.560Z"
   },
   {
    "duration": 4,
    "start_time": "2024-06-14T17:03:54.909Z"
   },
   {
    "duration": 3592,
    "start_time": "2024-06-14T17:03:55.766Z"
   },
   {
    "duration": 63,
    "start_time": "2024-06-14T17:04:20.768Z"
   },
   {
    "duration": 3,
    "start_time": "2024-06-14T17:04:31.444Z"
   },
   {
    "duration": 2617,
    "start_time": "2024-06-14T17:04:32.493Z"
   },
   {
    "duration": 846,
    "start_time": "2024-06-14T17:04:55.056Z"
   },
   {
    "duration": 1169,
    "start_time": "2024-06-14T17:06:14.179Z"
   },
   {
    "duration": 906,
    "start_time": "2024-06-14T17:07:07.413Z"
   },
   {
    "duration": 903,
    "start_time": "2024-06-14T17:07:24.970Z"
   },
   {
    "duration": 7,
    "start_time": "2024-06-14T17:10:22.490Z"
   },
   {
    "duration": 11,
    "start_time": "2024-06-14T17:10:28.750Z"
   },
   {
    "duration": 8,
    "start_time": "2024-06-14T17:12:27.957Z"
   },
   {
    "duration": 1121,
    "start_time": "2024-06-15T05:52:38.662Z"
   },
   {
    "duration": 1604,
    "start_time": "2024-06-15T05:52:39.785Z"
   },
   {
    "duration": 4,
    "start_time": "2024-06-15T05:52:41.390Z"
   },
   {
    "duration": 117,
    "start_time": "2024-06-15T05:52:41.395Z"
   },
   {
    "duration": 111,
    "start_time": "2024-06-15T05:52:41.513Z"
   },
   {
    "duration": 115,
    "start_time": "2024-06-15T05:52:41.626Z"
   },
   {
    "duration": 4,
    "start_time": "2024-06-15T05:52:41.743Z"
   },
   {
    "duration": 14,
    "start_time": "2024-06-15T05:52:41.748Z"
   },
   {
    "duration": 930,
    "start_time": "2024-06-15T05:52:41.763Z"
   },
   {
    "duration": 10,
    "start_time": "2024-06-15T05:52:42.694Z"
   },
   {
    "duration": 19,
    "start_time": "2024-06-15T05:52:42.706Z"
   },
   {
    "duration": 140,
    "start_time": "2024-06-15T05:54:09.260Z"
   },
   {
    "duration": 165,
    "start_time": "2024-06-15T05:55:01.723Z"
   },
   {
    "duration": 158,
    "start_time": "2024-06-15T05:55:15.977Z"
   },
   {
    "duration": 150,
    "start_time": "2024-06-15T05:57:06.581Z"
   },
   {
    "duration": 252,
    "start_time": "2024-06-15T06:01:18.599Z"
   },
   {
    "duration": 6,
    "start_time": "2024-06-15T06:05:30.918Z"
   },
   {
    "duration": 210,
    "start_time": "2024-06-15T06:08:26.238Z"
   },
   {
    "duration": 369,
    "start_time": "2024-06-15T06:08:37.025Z"
   },
   {
    "duration": 195,
    "start_time": "2024-06-15T06:08:47.528Z"
   },
   {
    "duration": 347,
    "start_time": "2024-06-15T06:12:23.686Z"
   },
   {
    "duration": 316,
    "start_time": "2024-06-15T06:12:41.054Z"
   },
   {
    "duration": 307,
    "start_time": "2024-06-15T06:13:15.424Z"
   },
   {
    "duration": 293,
    "start_time": "2024-06-15T06:13:26.570Z"
   },
   {
    "duration": 304,
    "start_time": "2024-06-15T06:13:35.125Z"
   },
   {
    "duration": 266,
    "start_time": "2024-06-15T06:13:40.813Z"
   },
   {
    "duration": 346,
    "start_time": "2024-06-15T06:13:53.097Z"
   },
   {
    "duration": 10,
    "start_time": "2024-06-15T06:26:14.438Z"
   },
   {
    "duration": 9,
    "start_time": "2024-06-15T06:27:06.430Z"
   },
   {
    "duration": 9,
    "start_time": "2024-06-15T06:27:19.835Z"
   },
   {
    "duration": 291,
    "start_time": "2024-06-15T06:29:07.953Z"
   },
   {
    "duration": 265,
    "start_time": "2024-06-15T06:29:24.105Z"
   },
   {
    "duration": 17,
    "start_time": "2024-06-15T06:39:00.331Z"
   },
   {
    "duration": 8,
    "start_time": "2024-06-15T06:40:15.985Z"
   },
   {
    "duration": 5,
    "start_time": "2024-06-15T06:41:38.547Z"
   },
   {
    "duration": 4,
    "start_time": "2024-06-15T06:42:32.503Z"
   },
   {
    "duration": 1061,
    "start_time": "2024-06-15T06:42:37.817Z"
   },
   {
    "duration": 328,
    "start_time": "2024-06-15T06:42:38.879Z"
   },
   {
    "duration": 5,
    "start_time": "2024-06-15T06:42:39.208Z"
   },
   {
    "duration": 115,
    "start_time": "2024-06-15T06:42:39.214Z"
   },
   {
    "duration": 111,
    "start_time": "2024-06-15T06:42:39.331Z"
   },
   {
    "duration": 109,
    "start_time": "2024-06-15T06:42:39.444Z"
   },
   {
    "duration": 5,
    "start_time": "2024-06-15T06:42:39.554Z"
   },
   {
    "duration": 4,
    "start_time": "2024-06-15T06:42:39.560Z"
   },
   {
    "duration": 938,
    "start_time": "2024-06-15T06:42:39.565Z"
   },
   {
    "duration": 9,
    "start_time": "2024-06-15T06:42:40.504Z"
   },
   {
    "duration": 241,
    "start_time": "2024-06-15T06:42:40.520Z"
   },
   {
    "duration": 59,
    "start_time": "2024-06-15T06:42:40.762Z"
   },
   {
    "duration": 9,
    "start_time": "2024-06-15T06:42:40.823Z"
   },
   {
    "duration": 7,
    "start_time": "2024-06-15T06:49:50.114Z"
   },
   {
    "duration": 91,
    "start_time": "2024-06-15T06:50:08.149Z"
   },
   {
    "duration": 1019,
    "start_time": "2024-06-15T06:50:15.955Z"
   },
   {
    "duration": 320,
    "start_time": "2024-06-15T06:50:16.976Z"
   },
   {
    "duration": 4,
    "start_time": "2024-06-15T06:50:17.298Z"
   },
   {
    "duration": 120,
    "start_time": "2024-06-15T06:50:17.303Z"
   },
   {
    "duration": 106,
    "start_time": "2024-06-15T06:50:17.425Z"
   },
   {
    "duration": 110,
    "start_time": "2024-06-15T06:50:17.532Z"
   },
   {
    "duration": 16,
    "start_time": "2024-06-15T06:50:17.644Z"
   },
   {
    "duration": 4,
    "start_time": "2024-06-15T06:50:17.662Z"
   },
   {
    "duration": 22,
    "start_time": "2024-06-15T06:50:17.667Z"
   },
   {
    "duration": 923,
    "start_time": "2024-06-15T06:50:17.690Z"
   },
   {
    "duration": 11,
    "start_time": "2024-06-15T06:50:18.615Z"
   },
   {
    "duration": 317,
    "start_time": "2024-06-15T06:50:18.627Z"
   },
   {
    "duration": 6,
    "start_time": "2024-06-15T06:50:18.945Z"
   },
   {
    "duration": 9,
    "start_time": "2024-06-15T06:50:18.953Z"
   },
   {
    "duration": 28,
    "start_time": "2024-06-15T06:52:04.045Z"
   },
   {
    "duration": 70,
    "start_time": "2024-06-15T06:52:21.837Z"
   },
   {
    "duration": 977,
    "start_time": "2024-06-15T06:56:26.786Z"
   },
   {
    "duration": 5,
    "start_time": "2024-06-15T06:56:46.364Z"
   },
   {
    "duration": 937,
    "start_time": "2024-06-15T06:56:47.692Z"
   },
   {
    "duration": 902,
    "start_time": "2024-06-15T06:56:55.697Z"
   },
   {
    "duration": 925,
    "start_time": "2024-06-15T06:57:18.610Z"
   },
   {
    "duration": 9,
    "start_time": "2024-06-15T07:14:20.926Z"
   },
   {
    "duration": 283,
    "start_time": "2024-06-15T07:15:12.774Z"
   },
   {
    "duration": 285,
    "start_time": "2024-06-15T07:15:26.942Z"
   },
   {
    "duration": 294,
    "start_time": "2024-06-15T07:15:51.671Z"
   },
   {
    "duration": 333,
    "start_time": "2024-06-15T07:18:43.843Z"
   },
   {
    "duration": 298,
    "start_time": "2024-06-15T07:18:52.176Z"
   },
   {
    "duration": 282,
    "start_time": "2024-06-15T07:22:32.243Z"
   },
   {
    "duration": 191,
    "start_time": "2024-06-15T07:23:13.817Z"
   },
   {
    "duration": 388,
    "start_time": "2024-06-15T07:23:38.865Z"
   },
   {
    "duration": 273,
    "start_time": "2024-06-15T07:24:02.683Z"
   },
   {
    "duration": 312,
    "start_time": "2024-06-15T07:24:14.117Z"
   },
   {
    "duration": 1089,
    "start_time": "2024-06-15T07:24:33.804Z"
   },
   {
    "duration": 337,
    "start_time": "2024-06-15T07:24:34.894Z"
   },
   {
    "duration": 4,
    "start_time": "2024-06-15T07:24:35.233Z"
   },
   {
    "duration": 120,
    "start_time": "2024-06-15T07:24:35.239Z"
   },
   {
    "duration": 109,
    "start_time": "2024-06-15T07:24:35.360Z"
   },
   {
    "duration": 116,
    "start_time": "2024-06-15T07:24:35.470Z"
   },
   {
    "duration": 33,
    "start_time": "2024-06-15T07:24:35.587Z"
   },
   {
    "duration": 78,
    "start_time": "2024-06-15T07:24:35.622Z"
   },
   {
    "duration": 19,
    "start_time": "2024-06-15T07:24:35.701Z"
   },
   {
    "duration": 6,
    "start_time": "2024-06-15T07:24:35.722Z"
   },
   {
    "duration": 949,
    "start_time": "2024-06-15T07:24:35.730Z"
   },
   {
    "duration": 8,
    "start_time": "2024-06-15T07:24:36.680Z"
   },
   {
    "duration": 279,
    "start_time": "2024-06-15T07:24:36.689Z"
   },
   {
    "duration": 5,
    "start_time": "2024-06-15T07:24:36.969Z"
   },
   {
    "duration": 8,
    "start_time": "2024-06-15T07:24:36.975Z"
   },
   {
    "duration": 955,
    "start_time": "2024-06-15T07:24:36.984Z"
   },
   {
    "duration": 9,
    "start_time": "2024-06-15T07:24:37.940Z"
   },
   {
    "duration": 329,
    "start_time": "2024-06-15T07:24:37.950Z"
   },
   {
    "duration": 767,
    "start_time": "2024-06-15T07:25:22.296Z"
   },
   {
    "duration": 4,
    "start_time": "2024-06-15T07:25:41.540Z"
   },
   {
    "duration": 4,
    "start_time": "2024-06-15T07:26:14.342Z"
   },
   {
    "duration": 8,
    "start_time": "2024-06-15T07:26:42.325Z"
   },
   {
    "duration": 48,
    "start_time": "2024-06-15T07:28:26.717Z"
   },
   {
    "duration": 7,
    "start_time": "2024-06-15T07:29:05.724Z"
   },
   {
    "duration": 265,
    "start_time": "2024-06-15T07:29:40.882Z"
   },
   {
    "duration": 288,
    "start_time": "2024-06-15T07:30:12.350Z"
   },
   {
    "duration": 277,
    "start_time": "2024-06-15T07:30:23.564Z"
   },
   {
    "duration": 5,
    "start_time": "2024-06-15T07:31:42.133Z"
   },
   {
    "duration": 10,
    "start_time": "2024-06-15T07:32:30.017Z"
   },
   {
    "duration": 937,
    "start_time": "2024-06-15T07:33:19.593Z"
   },
   {
    "duration": 8,
    "start_time": "2024-06-15T07:35:22.300Z"
   },
   {
    "duration": 363,
    "start_time": "2024-06-15T07:36:03.392Z"
   },
   {
    "duration": 295,
    "start_time": "2024-06-15T07:36:16.126Z"
   },
   {
    "duration": 5,
    "start_time": "2024-06-15T07:37:12.163Z"
   },
   {
    "duration": 7,
    "start_time": "2024-06-15T07:37:52.709Z"
   },
   {
    "duration": 11,
    "start_time": "2024-06-15T07:38:30.019Z"
   },
   {
    "duration": 232,
    "start_time": "2024-06-15T07:38:52.423Z"
   },
   {
    "duration": 5,
    "start_time": "2024-06-15T07:39:23.695Z"
   },
   {
    "duration": 10,
    "start_time": "2024-06-15T07:39:53.363Z"
   },
   {
    "duration": 44,
    "start_time": "2024-06-15T07:40:14.105Z"
   },
   {
    "duration": 8,
    "start_time": "2024-06-15T07:41:15.941Z"
   },
   {
    "duration": 9,
    "start_time": "2024-06-15T07:42:17.336Z"
   },
   {
    "duration": 291,
    "start_time": "2024-06-15T07:42:51.352Z"
   },
   {
    "duration": 304,
    "start_time": "2024-06-15T07:43:09.053Z"
   },
   {
    "duration": 4,
    "start_time": "2024-06-15T07:43:42.740Z"
   },
   {
    "duration": 8,
    "start_time": "2024-06-15T07:44:05.250Z"
   },
   {
    "duration": 4,
    "start_time": "2024-06-15T07:50:14.747Z"
   },
   {
    "duration": 3,
    "start_time": "2024-06-15T07:51:16.692Z"
   },
   {
    "duration": 3,
    "start_time": "2024-06-15T07:51:41.944Z"
   },
   {
    "duration": 4,
    "start_time": "2024-06-15T07:51:58.354Z"
   },
   {
    "duration": 3,
    "start_time": "2024-06-15T07:52:18.842Z"
   },
   {
    "duration": 3,
    "start_time": "2024-06-15T07:52:33.610Z"
   },
   {
    "duration": 5,
    "start_time": "2024-06-15T07:52:45.515Z"
   },
   {
    "duration": 2,
    "start_time": "2024-06-15T08:00:08.730Z"
   },
   {
    "duration": 12,
    "start_time": "2024-06-15T08:01:05.627Z"
   },
   {
    "duration": 3458,
    "start_time": "2024-06-15T08:01:27.471Z"
   },
   {
    "duration": 59,
    "start_time": "2024-06-15T08:01:49.518Z"
   },
   {
    "duration": 248,
    "start_time": "2024-06-15T08:01:55.463Z"
   },
   {
    "duration": 8,
    "start_time": "2024-06-15T08:02:21.453Z"
   },
   {
    "duration": 680,
    "start_time": "2024-06-15T08:02:26.607Z"
   },
   {
    "duration": 546,
    "start_time": "2024-06-15T08:02:45.459Z"
   },
   {
    "duration": 3306,
    "start_time": "2024-06-16T15:18:41.914Z"
   },
   {
    "duration": 1157,
    "start_time": "2024-06-16T15:18:45.222Z"
   },
   {
    "duration": 1476,
    "start_time": "2024-06-16T15:18:46.381Z"
   },
   {
    "duration": 4,
    "start_time": "2024-06-16T15:18:47.859Z"
   },
   {
    "duration": 101,
    "start_time": "2024-06-16T15:18:47.864Z"
   },
   {
    "duration": 99,
    "start_time": "2024-06-16T15:18:47.966Z"
   },
   {
    "duration": 103,
    "start_time": "2024-06-16T15:18:48.066Z"
   },
   {
    "duration": 17,
    "start_time": "2024-06-16T15:18:48.185Z"
   },
   {
    "duration": 66,
    "start_time": "2024-06-16T15:18:48.204Z"
   },
   {
    "duration": 4,
    "start_time": "2024-06-16T15:18:48.285Z"
   },
   {
    "duration": 14,
    "start_time": "2024-06-16T15:18:48.290Z"
   },
   {
    "duration": 898,
    "start_time": "2024-06-16T15:18:48.306Z"
   },
   {
    "duration": 9,
    "start_time": "2024-06-16T15:18:49.205Z"
   },
   {
    "duration": 329,
    "start_time": "2024-06-16T15:18:49.215Z"
   },
   {
    "duration": 5,
    "start_time": "2024-06-16T15:18:49.545Z"
   },
   {
    "duration": 20,
    "start_time": "2024-06-16T15:18:49.551Z"
   },
   {
    "duration": 902,
    "start_time": "2024-06-16T15:18:49.573Z"
   },
   {
    "duration": 13,
    "start_time": "2024-06-16T15:18:50.477Z"
   },
   {
    "duration": 325,
    "start_time": "2024-06-16T15:18:50.491Z"
   },
   {
    "duration": 4,
    "start_time": "2024-06-16T15:18:50.817Z"
   },
   {
    "duration": 43,
    "start_time": "2024-06-16T15:18:50.823Z"
   },
   {
    "duration": 20,
    "start_time": "2024-06-16T15:18:50.867Z"
   },
   {
    "duration": 299,
    "start_time": "2024-06-16T15:18:50.889Z"
   },
   {
    "duration": 4,
    "start_time": "2024-06-16T15:18:51.190Z"
   },
   {
    "duration": 7,
    "start_time": "2024-06-16T15:18:51.195Z"
   },
   {
    "duration": 890,
    "start_time": "2024-06-16T15:18:51.203Z"
   },
   {
    "duration": 8,
    "start_time": "2024-06-16T15:18:52.094Z"
   },
   {
    "duration": 288,
    "start_time": "2024-06-16T15:18:52.104Z"
   },
   {
    "duration": 4,
    "start_time": "2024-06-16T15:18:52.394Z"
   },
   {
    "duration": 8,
    "start_time": "2024-06-16T15:18:52.399Z"
   },
   {
    "duration": 7,
    "start_time": "2024-06-16T15:18:52.408Z"
   },
   {
    "duration": 370,
    "start_time": "2024-06-16T15:18:52.417Z"
   },
   {
    "duration": 4,
    "start_time": "2024-06-16T15:18:52.788Z"
   },
   {
    "duration": 23,
    "start_time": "2024-06-16T15:18:52.794Z"
   },
   {
    "duration": 8,
    "start_time": "2024-06-16T15:18:52.818Z"
   },
   {
    "duration": 293,
    "start_time": "2024-06-16T15:18:52.827Z"
   },
   {
    "duration": 4,
    "start_time": "2024-06-16T15:18:53.122Z"
   },
   {
    "duration": 10,
    "start_time": "2024-06-16T15:18:53.127Z"
   },
   {
    "duration": 4,
    "start_time": "2024-06-16T15:18:53.138Z"
   },
   {
    "duration": 622,
    "start_time": "2024-06-16T15:18:53.143Z"
   },
   {
    "duration": 2,
    "start_time": "2024-06-16T15:19:41.011Z"
   },
   {
    "duration": 536,
    "start_time": "2024-06-16T15:20:00.431Z"
   },
   {
    "duration": 535,
    "start_time": "2024-06-16T15:32:37.606Z"
   },
   {
    "duration": 55,
    "start_time": "2024-06-16T15:33:37.964Z"
   },
   {
    "duration": 2,
    "start_time": "2024-06-16T16:21:00.833Z"
   },
   {
    "duration": 5,
    "start_time": "2024-06-16T16:36:25.731Z"
   },
   {
    "duration": 202,
    "start_time": "2024-06-16T16:37:27.103Z"
   },
   {
    "duration": 129,
    "start_time": "2024-06-16T16:40:56.664Z"
   },
   {
    "duration": 5,
    "start_time": "2024-06-16T16:45:06.983Z"
   },
   {
    "duration": 42,
    "start_time": "2024-06-16T16:45:07.817Z"
   },
   {
    "duration": 48,
    "start_time": "2024-06-16T16:46:15.166Z"
   },
   {
    "duration": 5,
    "start_time": "2024-06-16T16:46:34.244Z"
   },
   {
    "duration": 476,
    "start_time": "2024-06-16T16:46:37.013Z"
   },
   {
    "duration": 3,
    "start_time": "2024-06-16T16:49:12.369Z"
   },
   {
    "duration": 4,
    "start_time": "2024-06-16T16:49:34.460Z"
   },
   {
    "duration": 4,
    "start_time": "2024-06-16T16:49:50.108Z"
   },
   {
    "duration": 4,
    "start_time": "2024-06-16T16:52:15.617Z"
   },
   {
    "duration": 3,
    "start_time": "2024-06-16T16:52:42.902Z"
   },
   {
    "duration": 4,
    "start_time": "2024-06-16T16:55:22.802Z"
   },
   {
    "duration": 6,
    "start_time": "2024-06-16T16:55:43.098Z"
   },
   {
    "duration": 6,
    "start_time": "2024-06-16T16:56:44.292Z"
   },
   {
    "duration": 425,
    "start_time": "2024-06-16T16:56:57.890Z"
   },
   {
    "duration": 6,
    "start_time": "2024-06-16T16:56:58.844Z"
   },
   {
    "duration": 5,
    "start_time": "2024-06-16T16:59:10.172Z"
   },
   {
    "duration": 3426,
    "start_time": "2024-06-17T11:01:16.832Z"
   },
   {
    "duration": 1398,
    "start_time": "2024-06-17T11:01:20.260Z"
   },
   {
    "duration": 2,
    "start_time": "2024-06-17T11:01:21.659Z"
   },
   {
    "duration": 1497,
    "start_time": "2024-06-17T11:01:21.663Z"
   },
   {
    "duration": 4,
    "start_time": "2024-06-17T11:01:23.161Z"
   },
   {
    "duration": 118,
    "start_time": "2024-06-17T11:01:23.166Z"
   },
   {
    "duration": 85,
    "start_time": "2024-06-17T11:01:23.285Z"
   },
   {
    "duration": 122,
    "start_time": "2024-06-17T11:01:23.371Z"
   },
   {
    "duration": 16,
    "start_time": "2024-06-17T11:01:23.495Z"
   },
   {
    "duration": 75,
    "start_time": "2024-06-17T11:01:23.514Z"
   },
   {
    "duration": 4,
    "start_time": "2024-06-17T11:01:23.590Z"
   },
   {
    "duration": 6,
    "start_time": "2024-06-17T11:01:23.595Z"
   },
   {
    "duration": 933,
    "start_time": "2024-06-17T11:01:23.602Z"
   },
   {
    "duration": 10,
    "start_time": "2024-06-17T11:01:24.536Z"
   },
   {
    "duration": 399,
    "start_time": "2024-06-17T11:01:24.547Z"
   },
   {
    "duration": 8,
    "start_time": "2024-06-17T11:01:24.947Z"
   },
   {
    "duration": 9,
    "start_time": "2024-06-17T11:01:24.956Z"
   },
   {
    "duration": 878,
    "start_time": "2024-06-17T11:01:24.966Z"
   },
   {
    "duration": 8,
    "start_time": "2024-06-17T11:01:25.845Z"
   },
   {
    "duration": 351,
    "start_time": "2024-06-17T11:01:25.854Z"
   },
   {
    "duration": 4,
    "start_time": "2024-06-17T11:01:26.207Z"
   },
   {
    "duration": 23,
    "start_time": "2024-06-17T11:01:26.213Z"
   },
   {
    "duration": 9,
    "start_time": "2024-06-17T11:01:26.238Z"
   },
   {
    "duration": 267,
    "start_time": "2024-06-17T11:01:26.248Z"
   },
   {
    "duration": 4,
    "start_time": "2024-06-17T11:01:26.516Z"
   },
   {
    "duration": 16,
    "start_time": "2024-06-17T11:01:26.521Z"
   },
   {
    "duration": 998,
    "start_time": "2024-06-17T11:01:26.538Z"
   },
   {
    "duration": 8,
    "start_time": "2024-06-17T11:01:27.539Z"
   },
   {
    "duration": 261,
    "start_time": "2024-06-17T11:01:27.548Z"
   },
   {
    "duration": 4,
    "start_time": "2024-06-17T11:01:27.811Z"
   },
   {
    "duration": 7,
    "start_time": "2024-06-17T11:01:27.817Z"
   },
   {
    "duration": 15,
    "start_time": "2024-06-17T11:01:27.825Z"
   },
   {
    "duration": 260,
    "start_time": "2024-06-17T11:01:27.841Z"
   },
   {
    "duration": 4,
    "start_time": "2024-06-17T11:01:28.102Z"
   },
   {
    "duration": 9,
    "start_time": "2024-06-17T11:01:28.108Z"
   },
   {
    "duration": 16,
    "start_time": "2024-06-17T11:01:28.118Z"
   },
   {
    "duration": 277,
    "start_time": "2024-06-17T11:01:28.135Z"
   },
   {
    "duration": 4,
    "start_time": "2024-06-17T11:01:28.413Z"
   },
   {
    "duration": 23,
    "start_time": "2024-06-17T11:01:28.418Z"
   },
   {
    "duration": 5,
    "start_time": "2024-06-17T11:01:28.442Z"
   },
   {
    "duration": 613,
    "start_time": "2024-06-17T11:01:28.448Z"
   },
   {
    "duration": 508,
    "start_time": "2024-06-17T11:01:29.062Z"
   },
   {
    "duration": 502,
    "start_time": "2024-06-17T11:01:29.571Z"
   },
   {
    "duration": 12,
    "start_time": "2024-06-17T11:01:30.074Z"
   },
   {
    "duration": 524,
    "start_time": "2024-06-17T11:01:30.087Z"
   },
   {
    "duration": 83,
    "start_time": "2024-06-17T11:01:30.613Z"
   },
   {
    "duration": 4,
    "start_time": "2024-06-17T11:02:56.436Z"
   },
   {
    "duration": 6,
    "start_time": "2024-06-17T11:03:13.557Z"
   },
   {
    "duration": 3468,
    "start_time": "2024-06-17T13:18:46.250Z"
   },
   {
    "duration": 1544,
    "start_time": "2024-06-17T13:18:49.720Z"
   },
   {
    "duration": 2,
    "start_time": "2024-06-17T13:18:51.266Z"
   },
   {
    "duration": 579,
    "start_time": "2024-06-17T13:18:51.270Z"
   },
   {
    "duration": 5,
    "start_time": "2024-06-17T13:18:51.851Z"
   },
   {
    "duration": 111,
    "start_time": "2024-06-17T13:18:51.857Z"
   },
   {
    "duration": 111,
    "start_time": "2024-06-17T13:18:51.969Z"
   },
   {
    "duration": 137,
    "start_time": "2024-06-17T13:18:52.081Z"
   },
   {
    "duration": 19,
    "start_time": "2024-06-17T13:18:52.220Z"
   },
   {
    "duration": 98,
    "start_time": "2024-06-17T13:18:52.241Z"
   },
   {
    "duration": 5,
    "start_time": "2024-06-17T13:18:52.340Z"
   },
   {
    "duration": 5,
    "start_time": "2024-06-17T13:18:52.346Z"
   },
   {
    "duration": 1089,
    "start_time": "2024-06-17T13:18:52.352Z"
   },
   {
    "duration": 9,
    "start_time": "2024-06-17T13:18:53.445Z"
   },
   {
    "duration": 419,
    "start_time": "2024-06-17T13:18:53.456Z"
   },
   {
    "duration": 5,
    "start_time": "2024-06-17T13:18:53.876Z"
   },
   {
    "duration": 8,
    "start_time": "2024-06-17T13:18:53.882Z"
   },
   {
    "duration": 996,
    "start_time": "2024-06-17T13:18:53.892Z"
   },
   {
    "duration": 8,
    "start_time": "2024-06-17T13:18:54.889Z"
   },
   {
    "duration": 364,
    "start_time": "2024-06-17T13:18:54.898Z"
   },
   {
    "duration": 5,
    "start_time": "2024-06-17T13:18:55.263Z"
   },
   {
    "duration": 8,
    "start_time": "2024-06-17T13:18:55.269Z"
   },
   {
    "duration": 8,
    "start_time": "2024-06-17T13:18:55.279Z"
   },
   {
    "duration": 345,
    "start_time": "2024-06-17T13:18:55.288Z"
   },
   {
    "duration": 5,
    "start_time": "2024-06-17T13:18:55.634Z"
   },
   {
    "duration": 13,
    "start_time": "2024-06-17T13:18:55.640Z"
   },
   {
    "duration": 1083,
    "start_time": "2024-06-17T13:18:55.655Z"
   },
   {
    "duration": 9,
    "start_time": "2024-06-17T13:18:56.739Z"
   },
   {
    "duration": 296,
    "start_time": "2024-06-17T13:18:56.749Z"
   },
   {
    "duration": 5,
    "start_time": "2024-06-17T13:18:57.047Z"
   },
   {
    "duration": 8,
    "start_time": "2024-06-17T13:18:57.053Z"
   },
   {
    "duration": 10,
    "start_time": "2024-06-17T13:18:57.062Z"
   },
   {
    "duration": 273,
    "start_time": "2024-06-17T13:18:57.073Z"
   },
   {
    "duration": 5,
    "start_time": "2024-06-17T13:18:57.347Z"
   },
   {
    "duration": 68,
    "start_time": "2024-06-17T13:18:57.353Z"
   },
   {
    "duration": 9,
    "start_time": "2024-06-17T13:18:57.422Z"
   },
   {
    "duration": 317,
    "start_time": "2024-06-17T13:18:57.433Z"
   },
   {
    "duration": 5,
    "start_time": "2024-06-17T13:18:57.752Z"
   },
   {
    "duration": 37,
    "start_time": "2024-06-17T13:18:57.758Z"
   },
   {
    "duration": 10,
    "start_time": "2024-06-17T13:18:57.797Z"
   },
   {
    "duration": 691,
    "start_time": "2024-06-17T13:18:57.810Z"
   },
   {
    "duration": 612,
    "start_time": "2024-06-17T13:18:58.503Z"
   },
   {
    "duration": 582,
    "start_time": "2024-06-17T13:18:59.117Z"
   },
   {
    "duration": 12,
    "start_time": "2024-06-17T13:18:59.700Z"
   },
   {
    "duration": 429,
    "start_time": "2024-06-17T13:18:59.713Z"
   },
   {
    "duration": 101,
    "start_time": "2024-06-17T13:19:00.211Z"
   },
   {
    "duration": 83,
    "start_time": "2024-06-17T13:36:05.528Z"
   },
   {
    "duration": 2,
    "start_time": "2024-06-17T13:36:14.439Z"
   },
   {
    "duration": 2,
    "start_time": "2024-06-17T13:37:34.672Z"
   },
   {
    "duration": 2,
    "start_time": "2024-06-17T13:37:42.165Z"
   },
   {
    "duration": 4,
    "start_time": "2024-06-17T13:42:02.135Z"
   },
   {
    "duration": 4,
    "start_time": "2024-06-17T13:44:42.575Z"
   },
   {
    "duration": 5,
    "start_time": "2024-06-17T13:45:16.731Z"
   },
   {
    "duration": 4,
    "start_time": "2024-06-17T13:45:29.681Z"
   },
   {
    "duration": 4,
    "start_time": "2024-06-17T13:55:46.593Z"
   },
   {
    "duration": 65,
    "start_time": "2024-06-17T13:57:36.695Z"
   },
   {
    "duration": 3,
    "start_time": "2024-06-17T13:58:04.949Z"
   },
   {
    "duration": 3,
    "start_time": "2024-06-17T13:58:26.606Z"
   },
   {
    "duration": 4,
    "start_time": "2024-06-17T13:58:59.525Z"
   },
   {
    "duration": 3,
    "start_time": "2024-06-17T14:37:06.944Z"
   },
   {
    "duration": 114,
    "start_time": "2024-06-17T14:38:57.809Z"
   },
   {
    "duration": 4,
    "start_time": "2024-06-17T14:41:48.276Z"
   },
   {
    "duration": 13,
    "start_time": "2024-06-17T14:41:49.044Z"
   },
   {
    "duration": 4,
    "start_time": "2024-06-17T14:43:26.645Z"
   },
   {
    "duration": 58,
    "start_time": "2024-06-17T14:43:28.458Z"
   },
   {
    "duration": 4,
    "start_time": "2024-06-17T14:44:43.753Z"
   },
   {
    "duration": 65,
    "start_time": "2024-06-17T14:44:45.728Z"
   },
   {
    "duration": 4,
    "start_time": "2024-06-17T14:45:30.413Z"
   },
   {
    "duration": 69,
    "start_time": "2024-06-17T14:45:30.921Z"
   },
   {
    "duration": 6,
    "start_time": "2024-06-17T14:46:22.183Z"
   },
   {
    "duration": 7,
    "start_time": "2024-06-17T14:46:59.929Z"
   },
   {
    "duration": 4,
    "start_time": "2024-06-17T14:47:09.389Z"
   },
   {
    "duration": 4,
    "start_time": "2024-06-17T14:47:32.848Z"
   },
   {
    "duration": 4,
    "start_time": "2024-06-17T14:47:34.680Z"
   },
   {
    "duration": 5,
    "start_time": "2024-06-17T14:47:35.305Z"
   },
   {
    "duration": 14,
    "start_time": "2024-06-17T14:47:37.796Z"
   },
   {
    "duration": 5,
    "start_time": "2024-06-17T14:47:55.132Z"
   },
   {
    "duration": 5,
    "start_time": "2024-06-17T14:48:13.120Z"
   },
   {
    "duration": 3,
    "start_time": "2024-06-17T14:48:13.821Z"
   },
   {
    "duration": 5,
    "start_time": "2024-06-17T14:48:14.443Z"
   },
   {
    "duration": 11,
    "start_time": "2024-06-17T14:48:15.061Z"
   },
   {
    "duration": 12,
    "start_time": "2024-06-17T14:50:47.013Z"
   },
   {
    "duration": 3,
    "start_time": "2024-06-17T14:50:51.147Z"
   },
   {
    "duration": 11,
    "start_time": "2024-06-17T14:50:51.780Z"
   },
   {
    "duration": 8,
    "start_time": "2024-06-17T14:51:20.870Z"
   },
   {
    "duration": 9,
    "start_time": "2024-06-17T14:55:03.673Z"
   },
   {
    "duration": 8,
    "start_time": "2024-06-17T14:56:21.079Z"
   },
   {
    "duration": 63,
    "start_time": "2024-06-17T14:56:34.667Z"
   },
   {
    "duration": 7,
    "start_time": "2024-06-17T14:56:41.328Z"
   },
   {
    "duration": 8,
    "start_time": "2024-06-17T14:57:42.401Z"
   },
   {
    "duration": 8,
    "start_time": "2024-06-17T14:58:03.714Z"
   },
   {
    "duration": 21,
    "start_time": "2024-06-17T15:00:25.093Z"
   },
   {
    "duration": 3147,
    "start_time": "2024-06-18T05:44:53.793Z"
   },
   {
    "duration": 1289,
    "start_time": "2024-06-18T05:44:56.942Z"
   },
   {
    "duration": 2,
    "start_time": "2024-06-18T05:44:58.233Z"
   },
   {
    "duration": 1477,
    "start_time": "2024-06-18T05:44:58.236Z"
   },
   {
    "duration": 3,
    "start_time": "2024-06-18T05:44:59.715Z"
   },
   {
    "duration": 89,
    "start_time": "2024-06-18T05:44:59.719Z"
   },
   {
    "duration": 85,
    "start_time": "2024-06-18T05:44:59.810Z"
   },
   {
    "duration": 93,
    "start_time": "2024-06-18T05:44:59.897Z"
   },
   {
    "duration": 16,
    "start_time": "2024-06-18T05:44:59.991Z"
   },
   {
    "duration": 63,
    "start_time": "2024-06-18T05:45:00.009Z"
   },
   {
    "duration": 16,
    "start_time": "2024-06-18T05:45:00.074Z"
   },
   {
    "duration": 22,
    "start_time": "2024-06-18T05:45:00.091Z"
   },
   {
    "duration": 901,
    "start_time": "2024-06-18T05:45:00.114Z"
   },
   {
    "duration": 8,
    "start_time": "2024-06-18T05:45:01.016Z"
   },
   {
    "duration": 325,
    "start_time": "2024-06-18T05:45:01.025Z"
   },
   {
    "duration": 4,
    "start_time": "2024-06-18T05:45:01.352Z"
   },
   {
    "duration": 43,
    "start_time": "2024-06-18T05:45:01.357Z"
   },
   {
    "duration": 850,
    "start_time": "2024-06-18T05:45:01.402Z"
   },
   {
    "duration": 8,
    "start_time": "2024-06-18T05:45:02.253Z"
   },
   {
    "duration": 436,
    "start_time": "2024-06-18T05:45:02.262Z"
   },
   {
    "duration": 4,
    "start_time": "2024-06-18T05:45:02.699Z"
   },
   {
    "duration": 202,
    "start_time": "2024-06-18T05:45:02.704Z"
   },
   {
    "duration": 45,
    "start_time": "2024-06-18T05:45:02.908Z"
   },
   {
    "duration": 262,
    "start_time": "2024-06-18T05:45:02.954Z"
   },
   {
    "duration": 4,
    "start_time": "2024-06-18T05:45:03.217Z"
   },
   {
    "duration": 35,
    "start_time": "2024-06-18T05:45:03.222Z"
   },
   {
    "duration": 861,
    "start_time": "2024-06-18T05:45:03.258Z"
   },
   {
    "duration": 7,
    "start_time": "2024-06-18T05:45:04.122Z"
   },
   {
    "duration": 265,
    "start_time": "2024-06-18T05:45:04.130Z"
   },
   {
    "duration": 4,
    "start_time": "2024-06-18T05:45:04.397Z"
   },
   {
    "duration": 16,
    "start_time": "2024-06-18T05:45:04.403Z"
   },
   {
    "duration": 9,
    "start_time": "2024-06-18T05:45:04.421Z"
   },
   {
    "duration": 269,
    "start_time": "2024-06-18T05:45:04.431Z"
   },
   {
    "duration": 4,
    "start_time": "2024-06-18T05:45:04.701Z"
   },
   {
    "duration": 177,
    "start_time": "2024-06-18T05:45:04.706Z"
   },
   {
    "duration": 23,
    "start_time": "2024-06-18T05:45:04.884Z"
   },
   {
    "duration": 290,
    "start_time": "2024-06-18T05:45:04.908Z"
   },
   {
    "duration": 3,
    "start_time": "2024-06-18T05:45:05.200Z"
   },
   {
    "duration": 105,
    "start_time": "2024-06-18T05:45:05.205Z"
   },
   {
    "duration": 33,
    "start_time": "2024-06-18T05:45:05.311Z"
   },
   {
    "duration": 603,
    "start_time": "2024-06-18T05:45:05.345Z"
   },
   {
    "duration": 509,
    "start_time": "2024-06-18T05:45:05.949Z"
   },
   {
    "duration": 489,
    "start_time": "2024-06-18T05:45:06.459Z"
   },
   {
    "duration": 3,
    "start_time": "2024-06-18T05:45:06.950Z"
   },
   {
    "duration": 452,
    "start_time": "2024-06-18T05:45:06.954Z"
   },
   {
    "duration": 84,
    "start_time": "2024-06-18T05:45:07.409Z"
   },
   {
    "duration": 93,
    "start_time": "2024-06-18T05:45:07.496Z"
   },
   {
    "duration": 2,
    "start_time": "2024-06-18T05:45:07.591Z"
   },
   {
    "duration": 56,
    "start_time": "2024-06-18T05:45:07.594Z"
   },
   {
    "duration": 44,
    "start_time": "2024-06-18T05:45:07.651Z"
   },
   {
    "duration": 27,
    "start_time": "2024-06-18T05:45:07.696Z"
   },
   {
    "duration": 15,
    "start_time": "2024-06-18T05:46:14.466Z"
   },
   {
    "duration": 15,
    "start_time": "2024-06-18T05:46:23.749Z"
   },
   {
    "duration": 4,
    "start_time": "2024-06-18T05:47:16.957Z"
   },
   {
    "duration": 4,
    "start_time": "2024-06-18T05:47:43.128Z"
   },
   {
    "duration": 3,
    "start_time": "2024-06-18T05:58:23.707Z"
   },
   {
    "duration": 4,
    "start_time": "2024-06-18T06:16:16.018Z"
   },
   {
    "duration": 94,
    "start_time": "2024-06-18T06:16:59.369Z"
   },
   {
    "duration": 4,
    "start_time": "2024-06-18T06:18:18.226Z"
   },
   {
    "duration": 10,
    "start_time": "2024-06-18T06:18:18.941Z"
   },
   {
    "duration": 5,
    "start_time": "2024-06-18T06:18:52.130Z"
   },
   {
    "duration": 36,
    "start_time": "2024-06-18T06:18:52.726Z"
   },
   {
    "duration": 6,
    "start_time": "2024-06-18T06:19:33.234Z"
   },
   {
    "duration": 3,
    "start_time": "2024-06-18T06:19:40.241Z"
   },
   {
    "duration": 4,
    "start_time": "2024-06-18T06:20:32.561Z"
   },
   {
    "duration": 24,
    "start_time": "2024-06-18T06:20:33.487Z"
   },
   {
    "duration": 21,
    "start_time": "2024-06-18T06:20:47.163Z"
   },
   {
    "duration": 4399,
    "start_time": "2024-06-18T10:57:56.375Z"
   },
   {
    "duration": 1852,
    "start_time": "2024-06-18T10:58:00.777Z"
   },
   {
    "duration": 3,
    "start_time": "2024-06-18T10:58:02.631Z"
   },
   {
    "duration": 1841,
    "start_time": "2024-06-18T10:58:02.636Z"
   },
   {
    "duration": 5,
    "start_time": "2024-06-18T10:58:04.480Z"
   },
   {
    "duration": 204,
    "start_time": "2024-06-18T10:58:04.486Z"
   },
   {
    "duration": 169,
    "start_time": "2024-06-18T10:58:04.691Z"
   },
   {
    "duration": 140,
    "start_time": "2024-06-18T10:58:04.862Z"
   },
   {
    "duration": 20,
    "start_time": "2024-06-18T10:58:05.004Z"
   },
   {
    "duration": 98,
    "start_time": "2024-06-18T10:58:05.026Z"
   },
   {
    "duration": 6,
    "start_time": "2024-06-18T10:58:05.125Z"
   },
   {
    "duration": 12,
    "start_time": "2024-06-18T10:58:05.132Z"
   },
   {
    "duration": 1257,
    "start_time": "2024-06-18T10:58:05.145Z"
   },
   {
    "duration": 10,
    "start_time": "2024-06-18T10:58:06.406Z"
   },
   {
    "duration": 427,
    "start_time": "2024-06-18T10:58:06.418Z"
   },
   {
    "duration": 6,
    "start_time": "2024-06-18T10:58:06.856Z"
   },
   {
    "duration": 10,
    "start_time": "2024-06-18T10:58:06.864Z"
   },
   {
    "duration": 1106,
    "start_time": "2024-06-18T10:58:06.876Z"
   },
   {
    "duration": 9,
    "start_time": "2024-06-18T10:58:07.984Z"
   },
   {
    "duration": 368,
    "start_time": "2024-06-18T10:58:07.995Z"
   },
   {
    "duration": 7,
    "start_time": "2024-06-18T10:58:08.365Z"
   },
   {
    "duration": 12,
    "start_time": "2024-06-18T10:58:08.374Z"
   },
   {
    "duration": 11,
    "start_time": "2024-06-18T10:58:08.388Z"
   },
   {
    "duration": 476,
    "start_time": "2024-06-18T10:58:08.400Z"
   },
   {
    "duration": 5,
    "start_time": "2024-06-18T10:58:08.879Z"
   },
   {
    "duration": 14,
    "start_time": "2024-06-18T10:58:08.886Z"
   },
   {
    "duration": 2500,
    "start_time": "2024-06-18T10:58:08.902Z"
   },
   {
    "duration": 58,
    "start_time": "2024-06-18T10:58:11.404Z"
   },
   {
    "duration": 392,
    "start_time": "2024-06-18T10:58:11.464Z"
   },
   {
    "duration": 6,
    "start_time": "2024-06-18T10:58:11.857Z"
   },
   {
    "duration": 9,
    "start_time": "2024-06-18T10:58:11.865Z"
   },
   {
    "duration": 9,
    "start_time": "2024-06-18T10:58:11.876Z"
   },
   {
    "duration": 570,
    "start_time": "2024-06-18T10:58:11.887Z"
   },
   {
    "duration": 6,
    "start_time": "2024-06-18T10:58:12.459Z"
   },
   {
    "duration": 10,
    "start_time": "2024-06-18T10:58:12.466Z"
   },
   {
    "duration": 10,
    "start_time": "2024-06-18T10:58:12.478Z"
   },
   {
    "duration": 584,
    "start_time": "2024-06-18T10:58:12.490Z"
   },
   {
    "duration": 5,
    "start_time": "2024-06-18T10:58:13.076Z"
   },
   {
    "duration": 78,
    "start_time": "2024-06-18T10:58:13.082Z"
   },
   {
    "duration": 15,
    "start_time": "2024-06-18T10:58:13.162Z"
   },
   {
    "duration": 1528,
    "start_time": "2024-06-18T10:58:13.182Z"
   },
   {
    "duration": 1406,
    "start_time": "2024-06-18T10:58:14.756Z"
   },
   {
    "duration": 1202,
    "start_time": "2024-06-18T10:58:16.164Z"
   },
   {
    "duration": 5,
    "start_time": "2024-06-18T10:58:17.368Z"
   },
   {
    "duration": 882,
    "start_time": "2024-06-18T10:58:17.374Z"
   },
   {
    "duration": 8,
    "start_time": "2024-06-18T10:58:18.258Z"
   },
   {
    "duration": 15,
    "start_time": "2024-06-18T10:58:18.268Z"
   },
   {
    "duration": 7,
    "start_time": "2024-06-18T10:58:18.285Z"
   },
   {
    "duration": 5,
    "start_time": "2024-06-18T10:58:18.355Z"
   },
   {
    "duration": 7,
    "start_time": "2024-06-18T10:58:18.362Z"
   },
   {
    "duration": 20,
    "start_time": "2024-06-18T10:58:18.371Z"
   },
   {
    "duration": 6,
    "start_time": "2024-06-18T10:58:18.392Z"
   },
   {
    "duration": 169,
    "start_time": "2024-06-18T10:58:18.400Z"
   },
   {
    "duration": 0,
    "start_time": "2024-06-18T10:58:18.571Z"
   },
   {
    "duration": 0,
    "start_time": "2024-06-18T10:58:18.572Z"
   },
   {
    "duration": 2536,
    "start_time": "2024-06-18T10:58:34.068Z"
   },
   {
    "duration": 1442,
    "start_time": "2024-06-18T10:58:36.607Z"
   },
   {
    "duration": 2,
    "start_time": "2024-06-18T10:58:38.051Z"
   },
   {
    "duration": 455,
    "start_time": "2024-06-18T10:58:38.055Z"
   },
   {
    "duration": 5,
    "start_time": "2024-06-18T10:58:38.512Z"
   },
   {
    "duration": 145,
    "start_time": "2024-06-18T10:58:38.518Z"
   },
   {
    "duration": 153,
    "start_time": "2024-06-18T10:58:38.665Z"
   },
   {
    "duration": 153,
    "start_time": "2024-06-18T10:58:38.820Z"
   },
   {
    "duration": 22,
    "start_time": "2024-06-18T10:58:38.976Z"
   },
   {
    "duration": 119,
    "start_time": "2024-06-18T10:58:39.001Z"
   },
   {
    "duration": 5,
    "start_time": "2024-06-18T10:58:39.122Z"
   },
   {
    "duration": 26,
    "start_time": "2024-06-18T10:58:39.129Z"
   },
   {
    "duration": 1262,
    "start_time": "2024-06-18T10:58:39.157Z"
   },
   {
    "duration": 11,
    "start_time": "2024-06-18T10:58:40.421Z"
   },
   {
    "duration": 374,
    "start_time": "2024-06-18T10:58:40.434Z"
   },
   {
    "duration": 7,
    "start_time": "2024-06-18T10:58:40.810Z"
   },
   {
    "duration": 9,
    "start_time": "2024-06-18T10:58:40.819Z"
   },
   {
    "duration": 1099,
    "start_time": "2024-06-18T10:58:40.830Z"
   },
   {
    "duration": 27,
    "start_time": "2024-06-18T10:58:41.932Z"
   },
   {
    "duration": 363,
    "start_time": "2024-06-18T10:58:41.961Z"
   },
   {
    "duration": 18,
    "start_time": "2024-06-18T10:58:42.325Z"
   },
   {
    "duration": 17,
    "start_time": "2024-06-18T10:58:42.347Z"
   },
   {
    "duration": 11,
    "start_time": "2024-06-18T10:58:42.366Z"
   },
   {
    "duration": 337,
    "start_time": "2024-06-18T10:58:42.380Z"
   },
   {
    "duration": 5,
    "start_time": "2024-06-18T10:58:42.719Z"
   },
   {
    "duration": 30,
    "start_time": "2024-06-18T10:58:42.726Z"
   },
   {
    "duration": 1250,
    "start_time": "2024-06-18T10:58:42.758Z"
   },
   {
    "duration": 10,
    "start_time": "2024-06-18T10:58:44.012Z"
   },
   {
    "duration": 284,
    "start_time": "2024-06-18T10:58:44.023Z"
   },
   {
    "duration": 51,
    "start_time": "2024-06-18T10:58:44.308Z"
   },
   {
    "duration": 16,
    "start_time": "2024-06-18T10:58:44.360Z"
   },
   {
    "duration": 9,
    "start_time": "2024-06-18T10:58:44.378Z"
   },
   {
    "duration": 304,
    "start_time": "2024-06-18T10:58:44.389Z"
   },
   {
    "duration": 6,
    "start_time": "2024-06-18T10:58:44.695Z"
   },
   {
    "duration": 20,
    "start_time": "2024-06-18T10:58:44.702Z"
   },
   {
    "duration": 10,
    "start_time": "2024-06-18T10:58:44.723Z"
   },
   {
    "duration": 386,
    "start_time": "2024-06-18T10:58:44.734Z"
   },
   {
    "duration": 6,
    "start_time": "2024-06-18T10:58:45.122Z"
   },
   {
    "duration": 32,
    "start_time": "2024-06-18T10:58:45.129Z"
   },
   {
    "duration": 6,
    "start_time": "2024-06-18T10:58:45.163Z"
   },
   {
    "duration": 803,
    "start_time": "2024-06-18T10:58:45.171Z"
   },
   {
    "duration": 693,
    "start_time": "2024-06-18T10:58:45.976Z"
   },
   {
    "duration": 689,
    "start_time": "2024-06-18T10:58:46.671Z"
   },
   {
    "duration": 5,
    "start_time": "2024-06-18T10:58:47.362Z"
   },
   {
    "duration": 490,
    "start_time": "2024-06-18T10:58:47.368Z"
   },
   {
    "duration": 96,
    "start_time": "2024-06-18T10:58:47.861Z"
   },
   {
    "duration": 8,
    "start_time": "2024-06-18T10:58:47.959Z"
   },
   {
    "duration": 8,
    "start_time": "2024-06-18T10:58:47.969Z"
   },
   {
    "duration": 6,
    "start_time": "2024-06-18T10:58:47.979Z"
   },
   {
    "duration": 16,
    "start_time": "2024-06-18T10:58:47.987Z"
   },
   {
    "duration": 19,
    "start_time": "2024-06-18T10:58:48.004Z"
   },
   {
    "duration": 5,
    "start_time": "2024-06-18T10:58:48.025Z"
   },
   {
    "duration": 160,
    "start_time": "2024-06-18T10:58:48.032Z"
   },
   {
    "duration": 0,
    "start_time": "2024-06-18T10:58:48.194Z"
   },
   {
    "duration": 0,
    "start_time": "2024-06-18T10:58:48.195Z"
   },
   {
    "duration": 10,
    "start_time": "2024-06-18T11:02:59.006Z"
   },
   {
    "duration": 2569,
    "start_time": "2024-06-18T11:03:03.592Z"
   },
   {
    "duration": 1507,
    "start_time": "2024-06-18T11:03:06.163Z"
   },
   {
    "duration": 3,
    "start_time": "2024-06-18T11:03:07.671Z"
   },
   {
    "duration": 437,
    "start_time": "2024-06-18T11:03:07.675Z"
   },
   {
    "duration": 6,
    "start_time": "2024-06-18T11:03:08.114Z"
   },
   {
    "duration": 155,
    "start_time": "2024-06-18T11:03:08.121Z"
   },
   {
    "duration": 143,
    "start_time": "2024-06-18T11:03:08.278Z"
   },
   {
    "duration": 149,
    "start_time": "2024-06-18T11:03:08.423Z"
   },
   {
    "duration": 23,
    "start_time": "2024-06-18T11:03:08.573Z"
   },
   {
    "duration": 108,
    "start_time": "2024-06-18T11:03:08.597Z"
   },
   {
    "duration": 6,
    "start_time": "2024-06-18T11:03:08.707Z"
   },
   {
    "duration": 29,
    "start_time": "2024-06-18T11:03:08.714Z"
   },
   {
    "duration": 1248,
    "start_time": "2024-06-18T11:03:08.744Z"
   },
   {
    "duration": 11,
    "start_time": "2024-06-18T11:03:09.995Z"
   },
   {
    "duration": 400,
    "start_time": "2024-06-18T11:03:10.008Z"
   },
   {
    "duration": 7,
    "start_time": "2024-06-18T11:03:10.409Z"
   },
   {
    "duration": 11,
    "start_time": "2024-06-18T11:03:10.418Z"
   },
   {
    "duration": 1126,
    "start_time": "2024-06-18T11:03:10.430Z"
   },
   {
    "duration": 10,
    "start_time": "2024-06-18T11:03:11.558Z"
   },
   {
    "duration": 376,
    "start_time": "2024-06-18T11:03:11.569Z"
   },
   {
    "duration": 6,
    "start_time": "2024-06-18T11:03:11.955Z"
   },
   {
    "duration": 10,
    "start_time": "2024-06-18T11:03:11.963Z"
   },
   {
    "duration": 11,
    "start_time": "2024-06-18T11:03:11.976Z"
   },
   {
    "duration": 400,
    "start_time": "2024-06-18T11:03:11.989Z"
   },
   {
    "duration": 7,
    "start_time": "2024-06-18T11:03:12.390Z"
   },
   {
    "duration": 16,
    "start_time": "2024-06-18T11:03:12.398Z"
   },
   {
    "duration": 1282,
    "start_time": "2024-06-18T11:03:12.416Z"
   },
   {
    "duration": 11,
    "start_time": "2024-06-18T11:03:13.700Z"
   },
   {
    "duration": 353,
    "start_time": "2024-06-18T11:03:13.713Z"
   },
   {
    "duration": 6,
    "start_time": "2024-06-18T11:03:14.067Z"
   },
   {
    "duration": 24,
    "start_time": "2024-06-18T11:03:14.074Z"
   },
   {
    "duration": 12,
    "start_time": "2024-06-18T11:03:14.099Z"
   },
   {
    "duration": 291,
    "start_time": "2024-06-18T11:03:14.113Z"
   },
   {
    "duration": 6,
    "start_time": "2024-06-18T11:03:14.406Z"
   },
   {
    "duration": 9,
    "start_time": "2024-06-18T11:03:14.456Z"
   },
   {
    "duration": 9,
    "start_time": "2024-06-18T11:03:14.467Z"
   },
   {
    "duration": 354,
    "start_time": "2024-06-18T11:03:14.478Z"
   },
   {
    "duration": 5,
    "start_time": "2024-06-18T11:03:14.834Z"
   },
   {
    "duration": 26,
    "start_time": "2024-06-18T11:03:14.841Z"
   },
   {
    "duration": 25,
    "start_time": "2024-06-18T11:03:14.869Z"
   },
   {
    "duration": 805,
    "start_time": "2024-06-18T11:03:14.898Z"
   },
   {
    "duration": 701,
    "start_time": "2024-06-18T11:03:15.705Z"
   },
   {
    "duration": 711,
    "start_time": "2024-06-18T11:03:16.407Z"
   },
   {
    "duration": 7,
    "start_time": "2024-06-18T11:03:17.120Z"
   },
   {
    "duration": 527,
    "start_time": "2024-06-18T11:03:17.129Z"
   },
   {
    "duration": 99,
    "start_time": "2024-06-18T11:03:17.659Z"
   },
   {
    "duration": 138,
    "start_time": "2024-06-18T11:03:17.760Z"
   },
   {
    "duration": 0,
    "start_time": "2024-06-18T11:03:17.900Z"
   },
   {
    "duration": 0,
    "start_time": "2024-06-18T11:03:17.902Z"
   },
   {
    "duration": 0,
    "start_time": "2024-06-18T11:03:17.903Z"
   },
   {
    "duration": 0,
    "start_time": "2024-06-18T11:03:17.905Z"
   },
   {
    "duration": 0,
    "start_time": "2024-06-18T11:03:17.906Z"
   },
   {
    "duration": 0,
    "start_time": "2024-06-18T11:03:17.908Z"
   },
   {
    "duration": 0,
    "start_time": "2024-06-18T11:03:17.909Z"
   },
   {
    "duration": 0,
    "start_time": "2024-06-18T11:03:17.911Z"
   },
   {
    "duration": 0,
    "start_time": "2024-06-18T11:03:17.912Z"
   },
   {
    "duration": 4,
    "start_time": "2024-06-18T11:04:00.236Z"
   },
   {
    "duration": 5,
    "start_time": "2024-06-18T11:04:01.486Z"
   },
   {
    "duration": 6,
    "start_time": "2024-06-18T11:04:03.278Z"
   },
   {
    "duration": 4,
    "start_time": "2024-06-18T11:04:30.277Z"
   },
   {
    "duration": 19,
    "start_time": "2024-06-18T11:04:35.640Z"
   },
   {
    "duration": 4,
    "start_time": "2024-06-18T11:05:05.046Z"
   },
   {
    "duration": 18,
    "start_time": "2024-06-18T11:05:05.665Z"
   },
   {
    "duration": 4,
    "start_time": "2024-06-18T11:05:40.910Z"
   },
   {
    "duration": 25,
    "start_time": "2024-06-18T11:05:41.740Z"
   },
   {
    "duration": 6,
    "start_time": "2024-06-18T11:05:50.227Z"
   },
   {
    "duration": 35,
    "start_time": "2024-06-18T11:05:51.223Z"
   },
   {
    "duration": 4,
    "start_time": "2024-06-18T11:07:45.508Z"
   },
   {
    "duration": 19,
    "start_time": "2024-06-18T11:07:46.072Z"
   },
   {
    "duration": 7,
    "start_time": "2024-06-18T11:08:06.071Z"
   },
   {
    "duration": 16,
    "start_time": "2024-06-18T11:08:06.738Z"
   },
   {
    "duration": 5,
    "start_time": "2024-06-18T11:10:50.775Z"
   },
   {
    "duration": 490,
    "start_time": "2024-06-18T11:10:51.566Z"
   },
   {
    "duration": 8,
    "start_time": "2024-06-18T11:10:52.856Z"
   },
   {
    "duration": 4,
    "start_time": "2024-06-18T11:10:56.636Z"
   },
   {
    "duration": 4,
    "start_time": "2024-06-18T11:10:58.051Z"
   },
   {
    "duration": 4,
    "start_time": "2024-06-18T11:11:01.600Z"
   },
   {
    "duration": 4,
    "start_time": "2024-06-18T11:11:09.689Z"
   },
   {
    "duration": 5,
    "start_time": "2024-06-18T11:13:39.266Z"
   },
   {
    "duration": 533,
    "start_time": "2024-06-18T11:13:40.128Z"
   },
   {
    "duration": 8,
    "start_time": "2024-06-18T11:13:41.144Z"
   },
   {
    "duration": 3,
    "start_time": "2024-06-18T11:13:44.762Z"
   },
   {
    "duration": 5,
    "start_time": "2024-06-18T11:13:46.187Z"
   },
   {
    "duration": 4,
    "start_time": "2024-06-18T11:13:49.605Z"
   },
   {
    "duration": 6,
    "start_time": "2024-06-18T11:13:53.151Z"
   },
   {
    "duration": 26,
    "start_time": "2024-06-18T11:13:54.853Z"
   },
   {
    "duration": 7,
    "start_time": "2024-06-18T11:14:43.349Z"
   },
   {
    "duration": 6,
    "start_time": "2024-06-18T11:14:55.546Z"
   },
   {
    "duration": 3,
    "start_time": "2024-06-18T11:15:59.819Z"
   },
   {
    "duration": 23,
    "start_time": "2024-06-18T11:16:00.529Z"
   },
   {
    "duration": 4,
    "start_time": "2024-06-18T11:17:59.625Z"
   },
   {
    "duration": 26,
    "start_time": "2024-06-18T11:18:00.496Z"
   },
   {
    "duration": 7,
    "start_time": "2024-06-18T11:18:08.183Z"
   },
   {
    "duration": 1699,
    "start_time": "2024-06-18T11:18:09.067Z"
   },
   {
    "duration": 7,
    "start_time": "2024-06-18T11:18:33.672Z"
   },
   {
    "duration": 1713,
    "start_time": "2024-06-18T11:18:34.600Z"
   },
   {
    "duration": 5,
    "start_time": "2024-06-18T11:19:36.943Z"
   },
   {
    "duration": 1630,
    "start_time": "2024-06-18T11:19:37.579Z"
   },
   {
    "duration": 5,
    "start_time": "2024-06-18T11:20:05.626Z"
   },
   {
    "duration": 1690,
    "start_time": "2024-06-18T11:21:00.161Z"
   },
   {
    "duration": 5,
    "start_time": "2024-06-18T11:21:51.213Z"
   },
   {
    "duration": 1660,
    "start_time": "2024-06-18T11:21:52.005Z"
   },
   {
    "duration": 51,
    "start_time": "2024-06-18T11:22:51.783Z"
   },
   {
    "duration": 5,
    "start_time": "2024-06-18T11:23:08.019Z"
   },
   {
    "duration": 1710,
    "start_time": "2024-06-18T11:23:09.133Z"
   },
   {
    "duration": 51,
    "start_time": "2024-06-18T11:23:53.653Z"
   },
   {
    "duration": 5,
    "start_time": "2024-06-18T11:24:13.144Z"
   },
   {
    "duration": 1736,
    "start_time": "2024-06-18T11:24:14.202Z"
   },
   {
    "duration": 6,
    "start_time": "2024-06-18T11:24:25.138Z"
   },
   {
    "duration": 1784,
    "start_time": "2024-06-18T11:24:26.099Z"
   },
   {
    "duration": 6,
    "start_time": "2024-06-18T11:24:47.877Z"
   },
   {
    "duration": 1737,
    "start_time": "2024-06-18T11:24:50.049Z"
   },
   {
    "duration": 62,
    "start_time": "2024-06-18T11:25:03.923Z"
   },
   {
    "duration": 6,
    "start_time": "2024-06-18T11:25:10.683Z"
   },
   {
    "duration": 1639,
    "start_time": "2024-06-18T11:25:11.326Z"
   },
   {
    "duration": 1716,
    "start_time": "2024-06-18T11:27:16.118Z"
   },
   {
    "duration": 1657,
    "start_time": "2024-06-18T11:27:45.023Z"
   },
   {
    "duration": 4951,
    "start_time": "2024-06-18T11:28:16.486Z"
   },
   {
    "duration": 3267,
    "start_time": "2024-06-18T14:20:07.899Z"
   },
   {
    "duration": 1616,
    "start_time": "2024-06-18T14:20:11.169Z"
   },
   {
    "duration": 3,
    "start_time": "2024-06-18T14:20:12.790Z"
   },
   {
    "duration": 630,
    "start_time": "2024-06-18T14:20:12.794Z"
   },
   {
    "duration": 5,
    "start_time": "2024-06-18T14:20:13.425Z"
   },
   {
    "duration": 109,
    "start_time": "2024-06-18T14:20:13.431Z"
   },
   {
    "duration": 127,
    "start_time": "2024-06-18T14:20:13.541Z"
   },
   {
    "duration": 126,
    "start_time": "2024-06-18T14:20:13.670Z"
   },
   {
    "duration": 19,
    "start_time": "2024-06-18T14:20:13.799Z"
   },
   {
    "duration": 86,
    "start_time": "2024-06-18T14:20:13.820Z"
   },
   {
    "duration": 5,
    "start_time": "2024-06-18T14:20:13.908Z"
   },
   {
    "duration": 5,
    "start_time": "2024-06-18T14:20:13.914Z"
   },
   {
    "duration": 1178,
    "start_time": "2024-06-18T14:20:13.921Z"
   },
   {
    "duration": 11,
    "start_time": "2024-06-18T14:20:15.101Z"
   },
   {
    "duration": 457,
    "start_time": "2024-06-18T14:20:15.113Z"
   },
   {
    "duration": 7,
    "start_time": "2024-06-18T14:20:15.572Z"
   },
   {
    "duration": 15,
    "start_time": "2024-06-18T14:20:15.581Z"
   },
   {
    "duration": 1029,
    "start_time": "2024-06-18T14:20:15.597Z"
   },
   {
    "duration": 9,
    "start_time": "2024-06-18T14:20:16.628Z"
   },
   {
    "duration": 385,
    "start_time": "2024-06-18T14:20:16.638Z"
   },
   {
    "duration": 6,
    "start_time": "2024-06-18T14:20:17.025Z"
   },
   {
    "duration": 13,
    "start_time": "2024-06-18T14:20:17.032Z"
   },
   {
    "duration": 26,
    "start_time": "2024-06-18T14:20:17.047Z"
   },
   {
    "duration": 345,
    "start_time": "2024-06-18T14:20:17.074Z"
   },
   {
    "duration": 5,
    "start_time": "2024-06-18T14:20:17.420Z"
   },
   {
    "duration": 9,
    "start_time": "2024-06-18T14:20:17.427Z"
   },
   {
    "duration": 1313,
    "start_time": "2024-06-18T14:20:17.440Z"
   },
   {
    "duration": 17,
    "start_time": "2024-06-18T14:20:18.755Z"
   },
   {
    "duration": 356,
    "start_time": "2024-06-18T14:20:18.774Z"
   },
   {
    "duration": 6,
    "start_time": "2024-06-18T14:20:19.132Z"
   },
   {
    "duration": 66,
    "start_time": "2024-06-18T14:20:19.139Z"
   },
   {
    "duration": 11,
    "start_time": "2024-06-18T14:20:19.207Z"
   },
   {
    "duration": 275,
    "start_time": "2024-06-18T14:20:19.219Z"
   },
   {
    "duration": 6,
    "start_time": "2024-06-18T14:20:19.496Z"
   },
   {
    "duration": 9,
    "start_time": "2024-06-18T14:20:19.504Z"
   },
   {
    "duration": 9,
    "start_time": "2024-06-18T14:20:19.515Z"
   },
   {
    "duration": 390,
    "start_time": "2024-06-18T14:20:19.525Z"
   },
   {
    "duration": 5,
    "start_time": "2024-06-18T14:20:19.917Z"
   },
   {
    "duration": 15,
    "start_time": "2024-06-18T14:20:19.923Z"
   },
   {
    "duration": 27,
    "start_time": "2024-06-18T14:20:19.939Z"
   },
   {
    "duration": 699,
    "start_time": "2024-06-18T14:20:19.967Z"
   },
   {
    "duration": 613,
    "start_time": "2024-06-18T14:20:20.668Z"
   },
   {
    "duration": 592,
    "start_time": "2024-06-18T14:20:21.283Z"
   },
   {
    "duration": 5,
    "start_time": "2024-06-18T14:20:21.877Z"
   },
   {
    "duration": 483,
    "start_time": "2024-06-18T14:20:21.883Z"
   },
   {
    "duration": 96,
    "start_time": "2024-06-18T14:20:22.369Z"
   },
   {
    "duration": 3,
    "start_time": "2024-06-18T14:20:22.467Z"
   },
   {
    "duration": 7,
    "start_time": "2024-06-18T14:20:22.471Z"
   },
   {
    "duration": 10,
    "start_time": "2024-06-18T14:20:22.479Z"
   },
   {
    "duration": 4,
    "start_time": "2024-06-18T14:20:22.491Z"
   },
   {
    "duration": 20,
    "start_time": "2024-06-18T14:20:22.497Z"
   },
   {
    "duration": 6,
    "start_time": "2024-06-18T14:20:22.519Z"
   },
   {
    "duration": 4592,
    "start_time": "2024-06-18T14:20:22.527Z"
   },
   {
    "duration": 2232,
    "start_time": "2024-06-18T14:40:42.693Z"
   },
   {
    "duration": 1284,
    "start_time": "2024-06-18T14:40:44.928Z"
   },
   {
    "duration": 2,
    "start_time": "2024-06-18T14:40:46.214Z"
   },
   {
    "duration": 419,
    "start_time": "2024-06-18T14:40:46.218Z"
   },
   {
    "duration": 12,
    "start_time": "2024-06-18T14:40:46.638Z"
   },
   {
    "duration": 141,
    "start_time": "2024-06-18T14:40:46.652Z"
   },
   {
    "duration": 122,
    "start_time": "2024-06-18T14:40:46.795Z"
   },
   {
    "duration": 129,
    "start_time": "2024-06-18T14:40:46.919Z"
   },
   {
    "duration": 33,
    "start_time": "2024-06-18T14:40:47.050Z"
   },
   {
    "duration": 81,
    "start_time": "2024-06-18T14:40:47.086Z"
   },
   {
    "duration": 4,
    "start_time": "2024-06-18T14:40:47.169Z"
   },
   {
    "duration": 48,
    "start_time": "2024-06-18T14:40:47.174Z"
   },
   {
    "duration": 1190,
    "start_time": "2024-06-18T14:40:47.224Z"
   },
   {
    "duration": 11,
    "start_time": "2024-06-18T14:40:48.416Z"
   },
   {
    "duration": 352,
    "start_time": "2024-06-18T14:40:48.429Z"
   },
   {
    "duration": 7,
    "start_time": "2024-06-18T14:40:48.783Z"
   },
   {
    "duration": 27,
    "start_time": "2024-06-18T14:40:48.791Z"
   },
   {
    "duration": 1041,
    "start_time": "2024-06-18T14:40:48.820Z"
   },
   {
    "duration": 11,
    "start_time": "2024-06-18T14:40:49.866Z"
   },
   {
    "duration": 423,
    "start_time": "2024-06-18T14:40:49.879Z"
   },
   {
    "duration": 5,
    "start_time": "2024-06-18T14:40:50.303Z"
   },
   {
    "duration": 18,
    "start_time": "2024-06-18T14:40:50.310Z"
   },
   {
    "duration": 15,
    "start_time": "2024-06-18T14:40:50.329Z"
   },
   {
    "duration": 267,
    "start_time": "2024-06-18T14:40:50.345Z"
   },
   {
    "duration": 51,
    "start_time": "2024-06-18T14:40:50.614Z"
   },
   {
    "duration": 11,
    "start_time": "2024-06-18T14:40:50.666Z"
   },
   {
    "duration": 1126,
    "start_time": "2024-06-18T14:40:50.679Z"
   },
   {
    "duration": 10,
    "start_time": "2024-06-18T14:40:51.808Z"
   },
   {
    "duration": 273,
    "start_time": "2024-06-18T14:40:51.819Z"
   },
   {
    "duration": 6,
    "start_time": "2024-06-18T14:40:52.093Z"
   },
   {
    "duration": 17,
    "start_time": "2024-06-18T14:40:52.100Z"
   },
   {
    "duration": 28,
    "start_time": "2024-06-18T14:40:52.119Z"
   },
   {
    "duration": 256,
    "start_time": "2024-06-18T14:40:52.148Z"
   },
   {
    "duration": 4,
    "start_time": "2024-06-18T14:40:52.406Z"
   },
   {
    "duration": 22,
    "start_time": "2024-06-18T14:40:52.411Z"
   },
   {
    "duration": 8,
    "start_time": "2024-06-18T14:40:52.435Z"
   },
   {
    "duration": 334,
    "start_time": "2024-06-18T14:40:52.465Z"
   },
   {
    "duration": 6,
    "start_time": "2024-06-18T14:40:52.800Z"
   },
   {
    "duration": 16,
    "start_time": "2024-06-18T14:40:52.808Z"
   },
   {
    "duration": 5,
    "start_time": "2024-06-18T14:40:52.826Z"
   },
   {
    "duration": 717,
    "start_time": "2024-06-18T14:40:52.833Z"
   },
   {
    "duration": 618,
    "start_time": "2024-06-18T14:40:53.551Z"
   },
   {
    "duration": 598,
    "start_time": "2024-06-18T14:40:54.170Z"
   },
   {
    "duration": 4,
    "start_time": "2024-06-18T14:40:54.770Z"
   },
   {
    "duration": 591,
    "start_time": "2024-06-18T14:40:54.776Z"
   },
   {
    "duration": 97,
    "start_time": "2024-06-18T14:40:55.369Z"
   },
   {
    "duration": 10,
    "start_time": "2024-06-18T14:40:55.468Z"
   },
   {
    "duration": 6,
    "start_time": "2024-06-18T14:40:55.479Z"
   },
   {
    "duration": 6,
    "start_time": "2024-06-18T14:40:55.486Z"
   },
   {
    "duration": 5,
    "start_time": "2024-06-18T14:40:55.493Z"
   },
   {
    "duration": 28,
    "start_time": "2024-06-18T14:40:55.500Z"
   },
   {
    "duration": 5,
    "start_time": "2024-06-18T14:40:55.530Z"
   },
   {
    "duration": 4609,
    "start_time": "2024-06-18T14:40:55.537Z"
   },
   {
    "duration": 3427,
    "start_time": "2024-06-18T16:48:16.797Z"
   },
   {
    "duration": 1403,
    "start_time": "2024-06-18T16:48:20.226Z"
   },
   {
    "duration": 3,
    "start_time": "2024-06-18T16:48:21.630Z"
   },
   {
    "duration": 1556,
    "start_time": "2024-06-18T16:48:21.634Z"
   },
   {
    "duration": 6,
    "start_time": "2024-06-18T16:48:23.192Z"
   },
   {
    "duration": 104,
    "start_time": "2024-06-18T16:48:23.200Z"
   },
   {
    "duration": 111,
    "start_time": "2024-06-18T16:48:23.305Z"
   },
   {
    "duration": 119,
    "start_time": "2024-06-18T16:48:23.417Z"
   },
   {
    "duration": 34,
    "start_time": "2024-06-18T16:48:23.537Z"
   },
   {
    "duration": 85,
    "start_time": "2024-06-18T16:48:23.574Z"
   },
   {
    "duration": 4,
    "start_time": "2024-06-18T16:48:23.660Z"
   },
   {
    "duration": 21,
    "start_time": "2024-06-18T16:48:23.670Z"
   },
   {
    "duration": 987,
    "start_time": "2024-06-18T16:48:23.692Z"
   },
   {
    "duration": 9,
    "start_time": "2024-06-18T16:48:24.681Z"
   },
   {
    "duration": 361,
    "start_time": "2024-06-18T16:48:24.691Z"
   },
   {
    "duration": 6,
    "start_time": "2024-06-18T16:48:25.053Z"
   },
   {
    "duration": 41,
    "start_time": "2024-06-18T16:48:25.060Z"
   },
   {
    "duration": 913,
    "start_time": "2024-06-18T16:48:25.103Z"
   },
   {
    "duration": 8,
    "start_time": "2024-06-18T16:48:26.018Z"
   },
   {
    "duration": 311,
    "start_time": "2024-06-18T16:48:26.027Z"
   },
   {
    "duration": 6,
    "start_time": "2024-06-18T16:48:26.341Z"
   },
   {
    "duration": 24,
    "start_time": "2024-06-18T16:48:26.348Z"
   },
   {
    "duration": 11,
    "start_time": "2024-06-18T16:48:26.373Z"
   },
   {
    "duration": 392,
    "start_time": "2024-06-18T16:48:26.386Z"
   },
   {
    "duration": 5,
    "start_time": "2024-06-18T16:48:26.780Z"
   },
   {
    "duration": 26,
    "start_time": "2024-06-18T16:48:26.786Z"
   },
   {
    "duration": 1000,
    "start_time": "2024-06-18T16:48:26.814Z"
   },
   {
    "duration": 8,
    "start_time": "2024-06-18T16:48:27.818Z"
   },
   {
    "duration": 269,
    "start_time": "2024-06-18T16:48:27.827Z"
   },
   {
    "duration": 4,
    "start_time": "2024-06-18T16:48:28.097Z"
   },
   {
    "duration": 33,
    "start_time": "2024-06-18T16:48:28.103Z"
   },
   {
    "duration": 38,
    "start_time": "2024-06-18T16:48:28.137Z"
   },
   {
    "duration": 310,
    "start_time": "2024-06-18T16:48:28.176Z"
   },
   {
    "duration": 5,
    "start_time": "2024-06-18T16:48:28.488Z"
   },
   {
    "duration": 11,
    "start_time": "2024-06-18T16:48:28.494Z"
   },
   {
    "duration": 15,
    "start_time": "2024-06-18T16:48:28.506Z"
   },
   {
    "duration": 293,
    "start_time": "2024-06-18T16:48:28.522Z"
   },
   {
    "duration": 5,
    "start_time": "2024-06-18T16:48:28.816Z"
   },
   {
    "duration": 14,
    "start_time": "2024-06-18T16:48:28.822Z"
   },
   {
    "duration": 4,
    "start_time": "2024-06-18T16:48:28.837Z"
   },
   {
    "duration": 617,
    "start_time": "2024-06-18T16:48:28.842Z"
   },
   {
    "duration": 591,
    "start_time": "2024-06-18T16:48:29.461Z"
   },
   {
    "duration": 534,
    "start_time": "2024-06-18T16:48:30.054Z"
   },
   {
    "duration": 5,
    "start_time": "2024-06-18T16:48:30.590Z"
   },
   {
    "duration": 504,
    "start_time": "2024-06-18T16:48:30.597Z"
   },
   {
    "duration": 7,
    "start_time": "2024-06-18T16:48:31.172Z"
   },
   {
    "duration": 136,
    "start_time": "2024-06-18T16:48:31.180Z"
   },
   {
    "duration": 51,
    "start_time": "2024-06-18T16:48:31.319Z"
   },
   {
    "duration": 38,
    "start_time": "2024-06-18T16:48:31.371Z"
   },
   {
    "duration": 99,
    "start_time": "2024-06-18T16:48:31.411Z"
   },
   {
    "duration": 58,
    "start_time": "2024-06-18T16:48:31.512Z"
   },
   {
    "duration": 18,
    "start_time": "2024-06-18T16:48:31.571Z"
   },
   {
    "duration": 3736,
    "start_time": "2024-06-18T16:48:31.590Z"
   }
  ],
  "kernelspec": {
   "display_name": "Python 3 (ipykernel)",
   "language": "python",
   "name": "python3"
  },
  "language_info": {
   "codemirror_mode": {
    "name": "ipython",
    "version": 3
   },
   "file_extension": ".py",
   "mimetype": "text/x-python",
   "name": "python",
   "nbconvert_exporter": "python",
   "pygments_lexer": "ipython3",
   "version": "3.11.5"
  },
  "toc": {
   "base_numbering": 1,
   "nav_menu": {},
   "number_sections": true,
   "sideBar": true,
   "skip_h1_title": true,
   "title_cell": "Table of Contents",
   "title_sidebar": "Contents",
   "toc_cell": false,
   "toc_position": {
    "height": "calc(100% - 180px)",
    "left": "10px",
    "top": "150px",
    "width": "384px"
   },
   "toc_section_display": true,
   "toc_window_display": true
  }
 },
 "nbformat": 4,
 "nbformat_minor": 2
}
